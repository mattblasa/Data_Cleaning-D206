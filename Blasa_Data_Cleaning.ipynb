{
 "cells": [
  {
   "cell_type": "markdown",
   "metadata": {},
   "source": [
    "# Performance Assement Data Cleaning — D206 \n"
   ]
  },
  {
   "cell_type": "markdown",
   "metadata": {},
   "source": [
    "## Information\n",
    "Matthew Blasa \n",
    "<br>\n",
    "Student ID: 001781641\n",
    "<br>\n",
    "MS Data Analytics (05/01/2021)\n",
    "<br>\n",
    "Program Mentor: Kirk Kelly \n",
    "<br>\n",
    "(503)805-0297\n",
    "<br>\n",
    "mblasa@wgu.edu"
   ]
  },
  {
   "cell_type": "markdown",
   "metadata": {},
   "source": [
    "### Table of Contents\n",
    "\n",
    "* [Part I: Research Question](#Research_Question)\n",
    "    * [Section 1A](#section_1_1)\n",
    "    * [Section 1B](#Section_1_2)\n",
    "* [Part II: Data-Cleaning Plan](#chapter2)\n",
    "    * [Section 2.1](#section_2_1)\n",
    "    * [Section 2.2](#section_2_2)\n",
    "* [Part III: Data Cleaning](#chapter2)\n",
    "    * [Section 2.1](#section_2_1)\n",
    "    * [Section 2.2](#section_2_2)\n",
    "* [Part IV: Data Cleaning](#chapter2)\n",
    "    * [Section 2.1](#section_2_1)\n",
    "    * [Section 2.2](#section_2_2)"
   ]
  },
  {
   "cell_type": "markdown",
   "metadata": {},
   "source": [
    "# Part I: Research Question <a class=\"anchor\" id=\"Research_Question\"></a>"
   ]
  },
  {
   "cell_type": "markdown",
   "metadata": {},
   "source": [
    "## A. Question "
   ]
  },
  {
   "cell_type": "markdown",
   "metadata": {},
   "source": [
    "Can we determine which individual customers are at high risk of churn? And, can we determine which features are most significant to churn?"
   ]
  },
  {
   "cell_type": "markdown",
   "metadata": {},
   "source": [
    "## B.  Variables"
   ]
  },
  {
   "cell_type": "markdown",
   "metadata": {},
   "source": [
    "The data has over 10,000 rows. We will use the churn column, as a dependent variable. Churn contains data on wether or not a customer has continued or discontinued service within the last month\n",
    "\n",
    "Predictors (independent variables) that may identify a relationship with the churn column are: \n",
    "* Services, such a mulitple phone lines.\n",
    "* Customer account information: payment methods, specific packages, paperless billing, bandiwidth usage.\n",
    "* Customer Demographic Info: gender, marital status, income. \n",
    "* Customer Responses to the survey. The survey was self-report by the customers, rating their service experience. \n",
    "\n",
    "The data is both numerical (as in the yearly GB bandwidth usage; customer annual income) and categorical (a \"Yes\" or \"No\" for Churn; customer job)."
   ]
  },
  {
   "cell_type": "markdown",
   "metadata": {},
   "source": [
    "# Part II: Data-Cleaning Plan"
   ]
  },
  {
   "cell_type": "markdown",
   "metadata": {},
   "source": [
    "## C1 Techniques"
   ]
  },
  {
   "cell_type": "markdown",
   "metadata": {},
   "source": [
    "My process will be:\n",
    "<ol>\n",
    "    <li>Create a file on my computer, and have a repository on GitHub as backup and for version control</li> \n",
    "    <li> Convert the CSV into a dataframe using the Pandas python library. </li> \n",
    "    <li> Evaluate the data struture to better understand input data.</li> \n",
    "    <li> Renaming the variables each time there is a significant change or cleaning. \n",
    "    <li> Look for misspellings, missing data, unnamed columns, etc. \n",
    "    <li> Find outliers in the data set, and distribution of features. \n",
    "    <li>Fill null values with values of central tendency: (mean, median or mode). I wil also remove outliers that are several standard deviations above the mean. \n",
    "\n",
    "<ol>"
   ]
  },
  {
   "cell_type": "markdown",
   "metadata": {},
   "source": [
    "## C2 Approach"
   ]
  },
  {
   "cell_type": "markdown",
   "metadata": {},
   "source": [
    "There is a large amount of data missing from the data set. For certain columns, such as children, age, and income, approximately 25% of the data is missing. This is about 2500 rows in the data set, non-overlapping. Given the size of the missing data, dropping the nulls would bias the results of the principal component analysis, or any other analytics. To compensate for this, we will be filling in the data, using values of central tendency. Data that is unrelated to our hypothesis will not have their nulls filled. "
   ]
  },
  {
   "cell_type": "markdown",
   "metadata": {},
   "source": [
    "## C3 Languages and Packages "
   ]
  },
  {
   "cell_type": "markdown",
   "metadata": {},
   "source": [
    "I will use the Python, since I use it at work to perform EDAs and clean data. I'll be using jupyter notebook, since it allows me to use markdowns to answer questions and program at the same time. To save time, I will be using several data science Python libraries to simplify cleaning. The following will be used:\n",
    "\n",
    "* NumPy - to work with arrays\n",
    "* Pandas - used to \n",
    "* Matplotlib - plotting charts \n",
    "* Scikit-learn - for PCA, Machine Learning, and Normaliization. \n",
    "* SciPy - used for mathematical tranformations. \n",
    "* Seaborn - visulization of more complex graphs\n",
    "* Missingno - visualization of missing data. "
   ]
  },
  {
   "cell_type": "markdown",
   "metadata": {},
   "source": [
    "## C4. Provide the Code:"
   ]
  },
  {
   "cell_type": "code",
   "execution_count": 3,
   "metadata": {},
   "outputs": [
    {
     "name": "stdout",
     "output_type": "stream",
     "text": [
      "Requirement already satisfied: pandas in c:\\users\\blasa\\anaconda3\\lib\\site-packages (1.1.3)\n",
      "Requirement already satisfied: python-dateutil>=2.7.3 in c:\\users\\blasa\\anaconda3\\lib\\site-packages (from pandas) (2.8.1)\n",
      "Requirement already satisfied: pytz>=2017.2 in c:\\users\\blasa\\anaconda3\\lib\\site-packages (from pandas) (2020.1)\n",
      "Requirement already satisfied: numpy>=1.15.4 in c:\\users\\blasa\\anaconda3\\lib\\site-packages (from pandas) (1.20.1)\n",
      "Requirement already satisfied: six>=1.5 in c:\\users\\blasa\\anaconda3\\lib\\site-packages (from python-dateutil>=2.7.3->pandas) (1.15.0)\n",
      "Requirement already satisfied: numpy in c:\\users\\blasa\\anaconda3\\lib\\site-packages (1.20.1)\n",
      "Requirement already satisfied: scipy in c:\\users\\blasa\\anaconda3\\lib\\site-packages (1.5.2)\n",
      "Requirement already satisfied: numpy>=1.14.5 in c:\\users\\blasa\\anaconda3\\lib\\site-packages (from scipy) (1.20.1)\n",
      "Requirement already satisfied: sklearn in c:\\users\\blasa\\anaconda3\\lib\\site-packages (0.0)\n",
      "Requirement already satisfied: scikit-learn in c:\\users\\blasa\\anaconda3\\lib\\site-packages (from sklearn) (0.24.2)\n",
      "Requirement already satisfied: numpy>=1.13.3 in c:\\users\\blasa\\anaconda3\\lib\\site-packages (from scikit-learn->sklearn) (1.20.1)\n",
      "Requirement already satisfied: joblib>=0.11 in c:\\users\\blasa\\anaconda3\\lib\\site-packages (from scikit-learn->sklearn) (0.17.0)\n",
      "Requirement already satisfied: threadpoolctl>=2.0.0 in c:\\users\\blasa\\anaconda3\\lib\\site-packages (from scikit-learn->sklearn) (2.1.0)\n",
      "Requirement already satisfied: scipy>=0.19.1 in c:\\users\\blasa\\anaconda3\\lib\\site-packages (from scikit-learn->sklearn) (1.5.2)\n",
      "Requirement already satisfied: matplotlib in c:\\users\\blasa\\anaconda3\\lib\\site-packages (3.3.2)\n",
      "Requirement already satisfied: kiwisolver>=1.0.1 in c:\\users\\blasa\\anaconda3\\lib\\site-packages (from matplotlib) (1.3.0)\n",
      "Requirement already satisfied: cycler>=0.10 in c:\\users\\blasa\\anaconda3\\lib\\site-packages (from matplotlib) (0.10.0)\n",
      "Requirement already satisfied: pillow>=6.2.0 in c:\\users\\blasa\\anaconda3\\lib\\site-packages (from matplotlib) (8.0.1)\n",
      "Requirement already satisfied: numpy>=1.15 in c:\\users\\blasa\\anaconda3\\lib\\site-packages (from matplotlib) (1.20.1)\n",
      "Requirement already satisfied: pyparsing!=2.0.4,!=2.1.2,!=2.1.6,>=2.0.3 in c:\\users\\blasa\\anaconda3\\lib\\site-packages (from matplotlib) (2.4.7)\n",
      "Requirement already satisfied: python-dateutil>=2.1 in c:\\users\\blasa\\anaconda3\\lib\\site-packages (from matplotlib) (2.8.1)\n",
      "Requirement already satisfied: certifi>=2020.06.20 in c:\\users\\blasa\\anaconda3\\lib\\site-packages (from matplotlib) (2021.5.30)\n",
      "Requirement already satisfied: six in c:\\users\\blasa\\anaconda3\\lib\\site-packages (from cycler>=0.10->matplotlib) (1.15.0)\n",
      "Requirement already satisfied: missingno in c:\\users\\blasa\\anaconda3\\lib\\site-packages (0.4.2)\n",
      "Requirement already satisfied: seaborn in c:\\users\\blasa\\anaconda3\\lib\\site-packages (from missingno) (0.11.0)\n",
      "Requirement already satisfied: scipy in c:\\users\\blasa\\anaconda3\\lib\\site-packages (from missingno) (1.5.2)\n",
      "Requirement already satisfied: matplotlib in c:\\users\\blasa\\anaconda3\\lib\\site-packages (from missingno) (3.3.2)\n",
      "Requirement already satisfied: numpy in c:\\users\\blasa\\anaconda3\\lib\\site-packages (from missingno) (1.20.1)\n",
      "Requirement already satisfied: pandas>=0.23 in c:\\users\\blasa\\anaconda3\\lib\\site-packages (from seaborn->missingno) (1.1.3)\n",
      "Requirement already satisfied: cycler>=0.10 in c:\\users\\blasa\\anaconda3\\lib\\site-packages (from matplotlib->missingno) (0.10.0)\n",
      "Requirement already satisfied: certifi>=2020.06.20 in c:\\users\\blasa\\anaconda3\\lib\\site-packages (from matplotlib->missingno) (2021.5.30)\n",
      "Requirement already satisfied: python-dateutil>=2.1 in c:\\users\\blasa\\anaconda3\\lib\\site-packages (from matplotlib->missingno) (2.8.1)\n",
      "Requirement already satisfied: pyparsing!=2.0.4,!=2.1.2,!=2.1.6,>=2.0.3 in c:\\users\\blasa\\anaconda3\\lib\\site-packages (from matplotlib->missingno) (2.4.7)\n",
      "Requirement already satisfied: pillow>=6.2.0 in c:\\users\\blasa\\anaconda3\\lib\\site-packages (from matplotlib->missingno) (8.0.1)\n",
      "Requirement already satisfied: kiwisolver>=1.0.1 in c:\\users\\blasa\\anaconda3\\lib\\site-packages (from matplotlib->missingno) (1.3.0)\n",
      "Requirement already satisfied: pytz>=2017.2 in c:\\users\\blasa\\anaconda3\\lib\\site-packages (from pandas>=0.23->seaborn->missingno) (2020.1)\n",
      "Requirement already satisfied: six in c:\\users\\blasa\\anaconda3\\lib\\site-packages (from cycler>=0.10->matplotlib->missingno) (1.15.0)\n",
      "Requirement already satisfied: pca in c:\\users\\blasa\\anaconda3\\lib\\site-packages (1.5.2)\n",
      "Requirement already satisfied: pandas in c:\\users\\blasa\\anaconda3\\lib\\site-packages (from pca) (1.1.3)\n",
      "Requirement already satisfied: colourmap in c:\\users\\blasa\\anaconda3\\lib\\site-packages (from pca) (0.1.1)\n",
      "Requirement already satisfied: numpy in c:\\users\\blasa\\anaconda3\\lib\\site-packages (from pca) (1.20.1)\n",
      "Requirement already satisfied: scipy in c:\\users\\blasa\\anaconda3\\lib\\site-packages (from pca) (1.5.2)\n",
      "Requirement already satisfied: wget in c:\\users\\blasa\\anaconda3\\lib\\site-packages (from pca) (3.2)\n",
      "Requirement already satisfied: matplotlib in c:\\users\\blasa\\anaconda3\\lib\\site-packages (from pca) (3.3.2)\n",
      "Requirement already satisfied: sklearn in c:\\users\\blasa\\anaconda3\\lib\\site-packages (from pca) (0.0)\n",
      "Requirement already satisfied: tqdm in c:\\users\\blasa\\anaconda3\\lib\\site-packages (from pca) (4.50.2)\n",
      "Requirement already satisfied: python-dateutil>=2.7.3 in c:\\users\\blasa\\anaconda3\\lib\\site-packages (from pandas->pca) (2.8.1)\n",
      "Requirement already satisfied: pytz>=2017.2 in c:\\users\\blasa\\anaconda3\\lib\\site-packages (from pandas->pca) (2020.1)\n",
      "Requirement already satisfied: pillow>=6.2.0 in c:\\users\\blasa\\anaconda3\\lib\\site-packages (from matplotlib->pca) (8.0.1)\n",
      "Requirement already satisfied: kiwisolver>=1.0.1 in c:\\users\\blasa\\anaconda3\\lib\\site-packages (from matplotlib->pca) (1.3.0)\n",
      "Requirement already satisfied: certifi>=2020.06.20 in c:\\users\\blasa\\anaconda3\\lib\\site-packages (from matplotlib->pca) (2021.5.30)\n",
      "Requirement already satisfied: pyparsing!=2.0.4,!=2.1.2,!=2.1.6,>=2.0.3 in c:\\users\\blasa\\anaconda3\\lib\\site-packages (from matplotlib->pca) (2.4.7)\n",
      "Requirement already satisfied: cycler>=0.10 in c:\\users\\blasa\\anaconda3\\lib\\site-packages (from matplotlib->pca) (0.10.0)\n",
      "Requirement already satisfied: scikit-learn in c:\\users\\blasa\\anaconda3\\lib\\site-packages (from sklearn->pca) (0.24.2)\n",
      "Requirement already satisfied: six>=1.5 in c:\\users\\blasa\\anaconda3\\lib\\site-packages (from python-dateutil>=2.7.3->pandas->pca) (1.15.0)\n",
      "Requirement already satisfied: threadpoolctl>=2.0.0 in c:\\users\\blasa\\anaconda3\\lib\\site-packages (from scikit-learn->sklearn->pca) (2.1.0)\n",
      "Requirement already satisfied: joblib>=0.11 in c:\\users\\blasa\\anaconda3\\lib\\site-packages (from scikit-learn->sklearn->pca) (0.17.0)\n"
     ]
    }
   ],
   "source": [
    "!pip install pandas\n",
    "!pip install numpy\n",
    "!pip install scipy\n",
    "!pip install sklearn\n",
    "!pip install matplotlib\n",
    "!pip install missingno\n",
    "!pip install pca"
   ]
  },
  {
   "cell_type": "code",
   "execution_count": 4,
   "metadata": {},
   "outputs": [],
   "source": [
    "import numpy as np\n",
    "import pandas as pd\n",
    "from sklearn.preprocessing import scale\n",
    "from sklearn.decomposition import PCA\n",
    "\n",
    "import seaborn as sns\n",
    "import matplotlib.pyplot as plt\n",
    "%matplotlib inline\n",
    "import missingno as msno"
   ]
  },
  {
   "cell_type": "code",
   "execution_count": 5,
   "metadata": {},
   "outputs": [],
   "source": [
    "ch_df = pd.read_csv('churn_raw_data.csv')"
   ]
  },
  {
   "cell_type": "code",
   "execution_count": 6,
   "metadata": {},
   "outputs": [
    {
     "data": {
      "text/html": [
       "<div>\n",
       "<style scoped>\n",
       "    .dataframe tbody tr th:only-of-type {\n",
       "        vertical-align: middle;\n",
       "    }\n",
       "\n",
       "    .dataframe tbody tr th {\n",
       "        vertical-align: top;\n",
       "    }\n",
       "\n",
       "    .dataframe thead th {\n",
       "        text-align: right;\n",
       "    }\n",
       "</style>\n",
       "<table border=\"1\" class=\"dataframe\">\n",
       "  <thead>\n",
       "    <tr style=\"text-align: right;\">\n",
       "      <th></th>\n",
       "      <th>Unnamed: 0</th>\n",
       "      <th>CaseOrder</th>\n",
       "      <th>Customer_id</th>\n",
       "      <th>Interaction</th>\n",
       "      <th>City</th>\n",
       "      <th>State</th>\n",
       "      <th>County</th>\n",
       "      <th>Zip</th>\n",
       "      <th>Lat</th>\n",
       "      <th>Lng</th>\n",
       "      <th>...</th>\n",
       "      <th>MonthlyCharge</th>\n",
       "      <th>Bandwidth_GB_Year</th>\n",
       "      <th>item1</th>\n",
       "      <th>item2</th>\n",
       "      <th>item3</th>\n",
       "      <th>item4</th>\n",
       "      <th>item5</th>\n",
       "      <th>item6</th>\n",
       "      <th>item7</th>\n",
       "      <th>item8</th>\n",
       "    </tr>\n",
       "  </thead>\n",
       "  <tbody>\n",
       "    <tr>\n",
       "      <th>0</th>\n",
       "      <td>1</td>\n",
       "      <td>1</td>\n",
       "      <td>K409198</td>\n",
       "      <td>aa90260b-4141-4a24-8e36-b04ce1f4f77b</td>\n",
       "      <td>Point Baker</td>\n",
       "      <td>AK</td>\n",
       "      <td>Prince of Wales-Hyder</td>\n",
       "      <td>99927</td>\n",
       "      <td>56.25100</td>\n",
       "      <td>-133.37571</td>\n",
       "      <td>...</td>\n",
       "      <td>171.449762</td>\n",
       "      <td>904.536110</td>\n",
       "      <td>5</td>\n",
       "      <td>5</td>\n",
       "      <td>5</td>\n",
       "      <td>3</td>\n",
       "      <td>4</td>\n",
       "      <td>4</td>\n",
       "      <td>3</td>\n",
       "      <td>4</td>\n",
       "    </tr>\n",
       "    <tr>\n",
       "      <th>1</th>\n",
       "      <td>2</td>\n",
       "      <td>2</td>\n",
       "      <td>S120509</td>\n",
       "      <td>fb76459f-c047-4a9d-8af9-e0f7d4ac2524</td>\n",
       "      <td>West Branch</td>\n",
       "      <td>MI</td>\n",
       "      <td>Ogemaw</td>\n",
       "      <td>48661</td>\n",
       "      <td>44.32893</td>\n",
       "      <td>-84.24080</td>\n",
       "      <td>...</td>\n",
       "      <td>242.948015</td>\n",
       "      <td>800.982766</td>\n",
       "      <td>3</td>\n",
       "      <td>4</td>\n",
       "      <td>3</td>\n",
       "      <td>3</td>\n",
       "      <td>4</td>\n",
       "      <td>3</td>\n",
       "      <td>4</td>\n",
       "      <td>4</td>\n",
       "    </tr>\n",
       "    <tr>\n",
       "      <th>2</th>\n",
       "      <td>3</td>\n",
       "      <td>3</td>\n",
       "      <td>K191035</td>\n",
       "      <td>344d114c-3736-4be5-98f7-c72c281e2d35</td>\n",
       "      <td>Yamhill</td>\n",
       "      <td>OR</td>\n",
       "      <td>Yamhill</td>\n",
       "      <td>97148</td>\n",
       "      <td>45.35589</td>\n",
       "      <td>-123.24657</td>\n",
       "      <td>...</td>\n",
       "      <td>159.440398</td>\n",
       "      <td>2054.706961</td>\n",
       "      <td>4</td>\n",
       "      <td>4</td>\n",
       "      <td>2</td>\n",
       "      <td>4</td>\n",
       "      <td>4</td>\n",
       "      <td>3</td>\n",
       "      <td>3</td>\n",
       "      <td>3</td>\n",
       "    </tr>\n",
       "    <tr>\n",
       "      <th>3</th>\n",
       "      <td>4</td>\n",
       "      <td>4</td>\n",
       "      <td>D90850</td>\n",
       "      <td>abfa2b40-2d43-4994-b15a-989b8c79e311</td>\n",
       "      <td>Del Mar</td>\n",
       "      <td>CA</td>\n",
       "      <td>San Diego</td>\n",
       "      <td>92014</td>\n",
       "      <td>32.96687</td>\n",
       "      <td>-117.24798</td>\n",
       "      <td>...</td>\n",
       "      <td>120.249493</td>\n",
       "      <td>2164.579412</td>\n",
       "      <td>4</td>\n",
       "      <td>4</td>\n",
       "      <td>4</td>\n",
       "      <td>2</td>\n",
       "      <td>5</td>\n",
       "      <td>4</td>\n",
       "      <td>3</td>\n",
       "      <td>3</td>\n",
       "    </tr>\n",
       "    <tr>\n",
       "      <th>4</th>\n",
       "      <td>5</td>\n",
       "      <td>5</td>\n",
       "      <td>K662701</td>\n",
       "      <td>68a861fd-0d20-4e51-a587-8a90407ee574</td>\n",
       "      <td>Needville</td>\n",
       "      <td>TX</td>\n",
       "      <td>Fort Bend</td>\n",
       "      <td>77461</td>\n",
       "      <td>29.38012</td>\n",
       "      <td>-95.80673</td>\n",
       "      <td>...</td>\n",
       "      <td>150.761216</td>\n",
       "      <td>271.493436</td>\n",
       "      <td>4</td>\n",
       "      <td>4</td>\n",
       "      <td>4</td>\n",
       "      <td>3</td>\n",
       "      <td>4</td>\n",
       "      <td>4</td>\n",
       "      <td>4</td>\n",
       "      <td>5</td>\n",
       "    </tr>\n",
       "  </tbody>\n",
       "</table>\n",
       "<p>5 rows × 52 columns</p>\n",
       "</div>"
      ],
      "text/plain": [
       "   Unnamed: 0  CaseOrder Customer_id                           Interaction  \\\n",
       "0           1          1     K409198  aa90260b-4141-4a24-8e36-b04ce1f4f77b   \n",
       "1           2          2     S120509  fb76459f-c047-4a9d-8af9-e0f7d4ac2524   \n",
       "2           3          3     K191035  344d114c-3736-4be5-98f7-c72c281e2d35   \n",
       "3           4          4      D90850  abfa2b40-2d43-4994-b15a-989b8c79e311   \n",
       "4           5          5     K662701  68a861fd-0d20-4e51-a587-8a90407ee574   \n",
       "\n",
       "          City State                 County    Zip       Lat        Lng  ...  \\\n",
       "0  Point Baker    AK  Prince of Wales-Hyder  99927  56.25100 -133.37571  ...   \n",
       "1  West Branch    MI                 Ogemaw  48661  44.32893  -84.24080  ...   \n",
       "2      Yamhill    OR                Yamhill  97148  45.35589 -123.24657  ...   \n",
       "3      Del Mar    CA              San Diego  92014  32.96687 -117.24798  ...   \n",
       "4    Needville    TX              Fort Bend  77461  29.38012  -95.80673  ...   \n",
       "\n",
       "   MonthlyCharge Bandwidth_GB_Year item1 item2  item3  item4 item5 item6  \\\n",
       "0     171.449762        904.536110     5     5      5      3     4     4   \n",
       "1     242.948015        800.982766     3     4      3      3     4     3   \n",
       "2     159.440398       2054.706961     4     4      2      4     4     3   \n",
       "3     120.249493       2164.579412     4     4      4      2     5     4   \n",
       "4     150.761216        271.493436     4     4      4      3     4     4   \n",
       "\n",
       "   item7 item8  \n",
       "0      3     4  \n",
       "1      4     4  \n",
       "2      3     3  \n",
       "3      3     3  \n",
       "4      4     5  \n",
       "\n",
       "[5 rows x 52 columns]"
      ]
     },
     "execution_count": 6,
     "metadata": {},
     "output_type": "execute_result"
    }
   ],
   "source": [
    "ch_df.head()"
   ]
  },
  {
   "cell_type": "code",
   "execution_count": 7,
   "metadata": {},
   "outputs": [
    {
     "data": {
      "text/plain": [
       "Index(['Unnamed: 0', 'CaseOrder', 'Customer_id', 'Interaction', 'City',\n",
       "       'State', 'County', 'Zip', 'Lat', 'Lng', 'Population', 'Area',\n",
       "       'Timezone', 'Job', 'Children', 'Age', 'Education', 'Employment',\n",
       "       'Income', 'Marital', 'Gender', 'Churn', 'Outage_sec_perweek', 'Email',\n",
       "       'Contacts', 'Yearly_equip_failure', 'Techie', 'Contract', 'Port_modem',\n",
       "       'Tablet', 'InternetService', 'Phone', 'Multiple', 'OnlineSecurity',\n",
       "       'OnlineBackup', 'DeviceProtection', 'TechSupport', 'StreamingTV',\n",
       "       'StreamingMovies', 'PaperlessBilling', 'PaymentMethod', 'Tenure',\n",
       "       'MonthlyCharge', 'Bandwidth_GB_Year', 'item1', 'item2', 'item3',\n",
       "       'item4', 'item5', 'item6', 'item7', 'item8'],\n",
       "      dtype='object')"
      ]
     },
     "execution_count": 7,
     "metadata": {},
     "output_type": "execute_result"
    }
   ],
   "source": [
    "ch_df.columns"
   ]
  },
  {
   "cell_type": "code",
   "execution_count": 8,
   "metadata": {},
   "outputs": [
    {
     "name": "stdout",
     "output_type": "stream",
     "text": [
      "<class 'pandas.core.frame.DataFrame'>\n",
      "RangeIndex: 10000 entries, 0 to 9999\n",
      "Data columns (total 52 columns):\n",
      " #   Column                Non-Null Count  Dtype  \n",
      "---  ------                --------------  -----  \n",
      " 0   Unnamed: 0            10000 non-null  int64  \n",
      " 1   CaseOrder             10000 non-null  int64  \n",
      " 2   Customer_id           10000 non-null  object \n",
      " 3   Interaction           10000 non-null  object \n",
      " 4   City                  10000 non-null  object \n",
      " 5   State                 10000 non-null  object \n",
      " 6   County                10000 non-null  object \n",
      " 7   Zip                   10000 non-null  int64  \n",
      " 8   Lat                   10000 non-null  float64\n",
      " 9   Lng                   10000 non-null  float64\n",
      " 10  Population            10000 non-null  int64  \n",
      " 11  Area                  10000 non-null  object \n",
      " 12  Timezone              10000 non-null  object \n",
      " 13  Job                   10000 non-null  object \n",
      " 14  Children              7505 non-null   float64\n",
      " 15  Age                   7525 non-null   float64\n",
      " 16  Education             10000 non-null  object \n",
      " 17  Employment            10000 non-null  object \n",
      " 18  Income                7510 non-null   float64\n",
      " 19  Marital               10000 non-null  object \n",
      " 20  Gender                10000 non-null  object \n",
      " 21  Churn                 10000 non-null  object \n",
      " 22  Outage_sec_perweek    10000 non-null  float64\n",
      " 23  Email                 10000 non-null  int64  \n",
      " 24  Contacts              10000 non-null  int64  \n",
      " 25  Yearly_equip_failure  10000 non-null  int64  \n",
      " 26  Techie                7523 non-null   object \n",
      " 27  Contract              10000 non-null  object \n",
      " 28  Port_modem            10000 non-null  object \n",
      " 29  Tablet                10000 non-null  object \n",
      " 30  InternetService       10000 non-null  object \n",
      " 31  Phone                 8974 non-null   object \n",
      " 32  Multiple              10000 non-null  object \n",
      " 33  OnlineSecurity        10000 non-null  object \n",
      " 34  OnlineBackup          10000 non-null  object \n",
      " 35  DeviceProtection      10000 non-null  object \n",
      " 36  TechSupport           9009 non-null   object \n",
      " 37  StreamingTV           10000 non-null  object \n",
      " 38  StreamingMovies       10000 non-null  object \n",
      " 39  PaperlessBilling      10000 non-null  object \n",
      " 40  PaymentMethod         10000 non-null  object \n",
      " 41  Tenure                9069 non-null   float64\n",
      " 42  MonthlyCharge         10000 non-null  float64\n",
      " 43  Bandwidth_GB_Year     8979 non-null   float64\n",
      " 44  item1                 10000 non-null  int64  \n",
      " 45  item2                 10000 non-null  int64  \n",
      " 46  item3                 10000 non-null  int64  \n",
      " 47  item4                 10000 non-null  int64  \n",
      " 48  item5                 10000 non-null  int64  \n",
      " 49  item6                 10000 non-null  int64  \n",
      " 50  item7                 10000 non-null  int64  \n",
      " 51  item8                 10000 non-null  int64  \n",
      "dtypes: float64(9), int64(15), object(28)\n",
      "memory usage: 4.0+ MB\n"
     ]
    }
   ],
   "source": [
    "ch_df.info()"
   ]
  },
  {
   "cell_type": "code",
   "execution_count": 9,
   "metadata": {},
   "outputs": [
    {
     "data": {
      "text/html": [
       "<div>\n",
       "<style scoped>\n",
       "    .dataframe tbody tr th:only-of-type {\n",
       "        vertical-align: middle;\n",
       "    }\n",
       "\n",
       "    .dataframe tbody tr th {\n",
       "        vertical-align: top;\n",
       "    }\n",
       "\n",
       "    .dataframe thead th {\n",
       "        text-align: right;\n",
       "    }\n",
       "</style>\n",
       "<table border=\"1\" class=\"dataframe\">\n",
       "  <thead>\n",
       "    <tr style=\"text-align: right;\">\n",
       "      <th></th>\n",
       "      <th>CaseOrder</th>\n",
       "      <th>Customer_id</th>\n",
       "      <th>Interaction</th>\n",
       "      <th>City</th>\n",
       "      <th>State</th>\n",
       "      <th>County</th>\n",
       "      <th>Zip</th>\n",
       "      <th>Lat</th>\n",
       "      <th>Lng</th>\n",
       "      <th>Population</th>\n",
       "      <th>...</th>\n",
       "      <th>MonthlyCharge</th>\n",
       "      <th>Bandwidth_GB_Year</th>\n",
       "      <th>item1</th>\n",
       "      <th>item2</th>\n",
       "      <th>item3</th>\n",
       "      <th>item4</th>\n",
       "      <th>item5</th>\n",
       "      <th>item6</th>\n",
       "      <th>item7</th>\n",
       "      <th>item8</th>\n",
       "    </tr>\n",
       "  </thead>\n",
       "  <tbody>\n",
       "    <tr>\n",
       "      <th>0</th>\n",
       "      <td>1</td>\n",
       "      <td>K409198</td>\n",
       "      <td>aa90260b-4141-4a24-8e36-b04ce1f4f77b</td>\n",
       "      <td>Point Baker</td>\n",
       "      <td>AK</td>\n",
       "      <td>Prince of Wales-Hyder</td>\n",
       "      <td>99927</td>\n",
       "      <td>56.25100</td>\n",
       "      <td>-133.37571</td>\n",
       "      <td>38</td>\n",
       "      <td>...</td>\n",
       "      <td>171.449762</td>\n",
       "      <td>904.536110</td>\n",
       "      <td>5</td>\n",
       "      <td>5</td>\n",
       "      <td>5</td>\n",
       "      <td>3</td>\n",
       "      <td>4</td>\n",
       "      <td>4</td>\n",
       "      <td>3</td>\n",
       "      <td>4</td>\n",
       "    </tr>\n",
       "    <tr>\n",
       "      <th>1</th>\n",
       "      <td>2</td>\n",
       "      <td>S120509</td>\n",
       "      <td>fb76459f-c047-4a9d-8af9-e0f7d4ac2524</td>\n",
       "      <td>West Branch</td>\n",
       "      <td>MI</td>\n",
       "      <td>Ogemaw</td>\n",
       "      <td>48661</td>\n",
       "      <td>44.32893</td>\n",
       "      <td>-84.24080</td>\n",
       "      <td>10446</td>\n",
       "      <td>...</td>\n",
       "      <td>242.948015</td>\n",
       "      <td>800.982766</td>\n",
       "      <td>3</td>\n",
       "      <td>4</td>\n",
       "      <td>3</td>\n",
       "      <td>3</td>\n",
       "      <td>4</td>\n",
       "      <td>3</td>\n",
       "      <td>4</td>\n",
       "      <td>4</td>\n",
       "    </tr>\n",
       "    <tr>\n",
       "      <th>2</th>\n",
       "      <td>3</td>\n",
       "      <td>K191035</td>\n",
       "      <td>344d114c-3736-4be5-98f7-c72c281e2d35</td>\n",
       "      <td>Yamhill</td>\n",
       "      <td>OR</td>\n",
       "      <td>Yamhill</td>\n",
       "      <td>97148</td>\n",
       "      <td>45.35589</td>\n",
       "      <td>-123.24657</td>\n",
       "      <td>3735</td>\n",
       "      <td>...</td>\n",
       "      <td>159.440398</td>\n",
       "      <td>2054.706961</td>\n",
       "      <td>4</td>\n",
       "      <td>4</td>\n",
       "      <td>2</td>\n",
       "      <td>4</td>\n",
       "      <td>4</td>\n",
       "      <td>3</td>\n",
       "      <td>3</td>\n",
       "      <td>3</td>\n",
       "    </tr>\n",
       "    <tr>\n",
       "      <th>3</th>\n",
       "      <td>4</td>\n",
       "      <td>D90850</td>\n",
       "      <td>abfa2b40-2d43-4994-b15a-989b8c79e311</td>\n",
       "      <td>Del Mar</td>\n",
       "      <td>CA</td>\n",
       "      <td>San Diego</td>\n",
       "      <td>92014</td>\n",
       "      <td>32.96687</td>\n",
       "      <td>-117.24798</td>\n",
       "      <td>13863</td>\n",
       "      <td>...</td>\n",
       "      <td>120.249493</td>\n",
       "      <td>2164.579412</td>\n",
       "      <td>4</td>\n",
       "      <td>4</td>\n",
       "      <td>4</td>\n",
       "      <td>2</td>\n",
       "      <td>5</td>\n",
       "      <td>4</td>\n",
       "      <td>3</td>\n",
       "      <td>3</td>\n",
       "    </tr>\n",
       "    <tr>\n",
       "      <th>4</th>\n",
       "      <td>5</td>\n",
       "      <td>K662701</td>\n",
       "      <td>68a861fd-0d20-4e51-a587-8a90407ee574</td>\n",
       "      <td>Needville</td>\n",
       "      <td>TX</td>\n",
       "      <td>Fort Bend</td>\n",
       "      <td>77461</td>\n",
       "      <td>29.38012</td>\n",
       "      <td>-95.80673</td>\n",
       "      <td>11352</td>\n",
       "      <td>...</td>\n",
       "      <td>150.761216</td>\n",
       "      <td>271.493436</td>\n",
       "      <td>4</td>\n",
       "      <td>4</td>\n",
       "      <td>4</td>\n",
       "      <td>3</td>\n",
       "      <td>4</td>\n",
       "      <td>4</td>\n",
       "      <td>4</td>\n",
       "      <td>5</td>\n",
       "    </tr>\n",
       "  </tbody>\n",
       "</table>\n",
       "<p>5 rows × 51 columns</p>\n",
       "</div>"
      ],
      "text/plain": [
       "   CaseOrder Customer_id                           Interaction         City  \\\n",
       "0          1     K409198  aa90260b-4141-4a24-8e36-b04ce1f4f77b  Point Baker   \n",
       "1          2     S120509  fb76459f-c047-4a9d-8af9-e0f7d4ac2524  West Branch   \n",
       "2          3     K191035  344d114c-3736-4be5-98f7-c72c281e2d35      Yamhill   \n",
       "3          4      D90850  abfa2b40-2d43-4994-b15a-989b8c79e311      Del Mar   \n",
       "4          5     K662701  68a861fd-0d20-4e51-a587-8a90407ee574    Needville   \n",
       "\n",
       "  State                 County    Zip       Lat        Lng  Population  ...  \\\n",
       "0    AK  Prince of Wales-Hyder  99927  56.25100 -133.37571          38  ...   \n",
       "1    MI                 Ogemaw  48661  44.32893  -84.24080       10446  ...   \n",
       "2    OR                Yamhill  97148  45.35589 -123.24657        3735  ...   \n",
       "3    CA              San Diego  92014  32.96687 -117.24798       13863  ...   \n",
       "4    TX              Fort Bend  77461  29.38012  -95.80673       11352  ...   \n",
       "\n",
       "  MonthlyCharge Bandwidth_GB_Year item1  item2  item3 item4 item5  item6  \\\n",
       "0    171.449762        904.536110     5      5      5     3     4      4   \n",
       "1    242.948015        800.982766     3      4      3     3     4      3   \n",
       "2    159.440398       2054.706961     4      4      2     4     4      3   \n",
       "3    120.249493       2164.579412     4      4      4     2     5      4   \n",
       "4    150.761216        271.493436     4      4      4     3     4      4   \n",
       "\n",
       "  item7 item8  \n",
       "0     3     4  \n",
       "1     4     4  \n",
       "2     3     3  \n",
       "3     3     3  \n",
       "4     4     5  \n",
       "\n",
       "[5 rows x 51 columns]"
      ]
     },
     "execution_count": 9,
     "metadata": {},
     "output_type": "execute_result"
    }
   ],
   "source": [
    "clean_df = ch_df.drop(ch_df.columns[0], axis = 1)\n",
    "clean_df.head()"
   ]
  },
  {
   "cell_type": "code",
   "execution_count": 10,
   "metadata": {},
   "outputs": [],
   "source": [
    "clean_df.rename(columns = {'item1':'Responses', \n",
    "                    'item2':'Fixes', \n",
    "                     'item3':'Replacements', \n",
    "                     'item4':'Reliability', \n",
    "                     'item5':'Options', \n",
    "                     'item6':'Respectfulness', \n",
    "                     'item7':'Courteous', \n",
    "                     'item8':'Listening'}, \n",
    "          inplace=True)"
   ]
  },
  {
   "cell_type": "code",
   "execution_count": 11,
   "metadata": {},
   "outputs": [
    {
     "data": {
      "text/html": [
       "<div>\n",
       "<style scoped>\n",
       "    .dataframe tbody tr th:only-of-type {\n",
       "        vertical-align: middle;\n",
       "    }\n",
       "\n",
       "    .dataframe tbody tr th {\n",
       "        vertical-align: top;\n",
       "    }\n",
       "\n",
       "    .dataframe thead th {\n",
       "        text-align: right;\n",
       "    }\n",
       "</style>\n",
       "<table border=\"1\" class=\"dataframe\">\n",
       "  <thead>\n",
       "    <tr style=\"text-align: right;\">\n",
       "      <th></th>\n",
       "      <th>CaseOrder</th>\n",
       "      <th>Customer_id</th>\n",
       "      <th>Interaction</th>\n",
       "      <th>City</th>\n",
       "      <th>State</th>\n",
       "      <th>County</th>\n",
       "      <th>Zip</th>\n",
       "      <th>Lat</th>\n",
       "      <th>Lng</th>\n",
       "      <th>Population</th>\n",
       "      <th>...</th>\n",
       "      <th>MonthlyCharge</th>\n",
       "      <th>Bandwidth_GB_Year</th>\n",
       "      <th>Responses</th>\n",
       "      <th>Fixes</th>\n",
       "      <th>Replacements</th>\n",
       "      <th>Reliability</th>\n",
       "      <th>Options</th>\n",
       "      <th>Respectfulness</th>\n",
       "      <th>Courteous</th>\n",
       "      <th>Listening</th>\n",
       "    </tr>\n",
       "  </thead>\n",
       "  <tbody>\n",
       "    <tr>\n",
       "      <th>0</th>\n",
       "      <td>1</td>\n",
       "      <td>K409198</td>\n",
       "      <td>aa90260b-4141-4a24-8e36-b04ce1f4f77b</td>\n",
       "      <td>Point Baker</td>\n",
       "      <td>AK</td>\n",
       "      <td>Prince of Wales-Hyder</td>\n",
       "      <td>99927</td>\n",
       "      <td>56.25100</td>\n",
       "      <td>-133.37571</td>\n",
       "      <td>38</td>\n",
       "      <td>...</td>\n",
       "      <td>171.449762</td>\n",
       "      <td>904.536110</td>\n",
       "      <td>5</td>\n",
       "      <td>5</td>\n",
       "      <td>5</td>\n",
       "      <td>3</td>\n",
       "      <td>4</td>\n",
       "      <td>4</td>\n",
       "      <td>3</td>\n",
       "      <td>4</td>\n",
       "    </tr>\n",
       "    <tr>\n",
       "      <th>1</th>\n",
       "      <td>2</td>\n",
       "      <td>S120509</td>\n",
       "      <td>fb76459f-c047-4a9d-8af9-e0f7d4ac2524</td>\n",
       "      <td>West Branch</td>\n",
       "      <td>MI</td>\n",
       "      <td>Ogemaw</td>\n",
       "      <td>48661</td>\n",
       "      <td>44.32893</td>\n",
       "      <td>-84.24080</td>\n",
       "      <td>10446</td>\n",
       "      <td>...</td>\n",
       "      <td>242.948015</td>\n",
       "      <td>800.982766</td>\n",
       "      <td>3</td>\n",
       "      <td>4</td>\n",
       "      <td>3</td>\n",
       "      <td>3</td>\n",
       "      <td>4</td>\n",
       "      <td>3</td>\n",
       "      <td>4</td>\n",
       "      <td>4</td>\n",
       "    </tr>\n",
       "    <tr>\n",
       "      <th>2</th>\n",
       "      <td>3</td>\n",
       "      <td>K191035</td>\n",
       "      <td>344d114c-3736-4be5-98f7-c72c281e2d35</td>\n",
       "      <td>Yamhill</td>\n",
       "      <td>OR</td>\n",
       "      <td>Yamhill</td>\n",
       "      <td>97148</td>\n",
       "      <td>45.35589</td>\n",
       "      <td>-123.24657</td>\n",
       "      <td>3735</td>\n",
       "      <td>...</td>\n",
       "      <td>159.440398</td>\n",
       "      <td>2054.706961</td>\n",
       "      <td>4</td>\n",
       "      <td>4</td>\n",
       "      <td>2</td>\n",
       "      <td>4</td>\n",
       "      <td>4</td>\n",
       "      <td>3</td>\n",
       "      <td>3</td>\n",
       "      <td>3</td>\n",
       "    </tr>\n",
       "    <tr>\n",
       "      <th>3</th>\n",
       "      <td>4</td>\n",
       "      <td>D90850</td>\n",
       "      <td>abfa2b40-2d43-4994-b15a-989b8c79e311</td>\n",
       "      <td>Del Mar</td>\n",
       "      <td>CA</td>\n",
       "      <td>San Diego</td>\n",
       "      <td>92014</td>\n",
       "      <td>32.96687</td>\n",
       "      <td>-117.24798</td>\n",
       "      <td>13863</td>\n",
       "      <td>...</td>\n",
       "      <td>120.249493</td>\n",
       "      <td>2164.579412</td>\n",
       "      <td>4</td>\n",
       "      <td>4</td>\n",
       "      <td>4</td>\n",
       "      <td>2</td>\n",
       "      <td>5</td>\n",
       "      <td>4</td>\n",
       "      <td>3</td>\n",
       "      <td>3</td>\n",
       "    </tr>\n",
       "    <tr>\n",
       "      <th>4</th>\n",
       "      <td>5</td>\n",
       "      <td>K662701</td>\n",
       "      <td>68a861fd-0d20-4e51-a587-8a90407ee574</td>\n",
       "      <td>Needville</td>\n",
       "      <td>TX</td>\n",
       "      <td>Fort Bend</td>\n",
       "      <td>77461</td>\n",
       "      <td>29.38012</td>\n",
       "      <td>-95.80673</td>\n",
       "      <td>11352</td>\n",
       "      <td>...</td>\n",
       "      <td>150.761216</td>\n",
       "      <td>271.493436</td>\n",
       "      <td>4</td>\n",
       "      <td>4</td>\n",
       "      <td>4</td>\n",
       "      <td>3</td>\n",
       "      <td>4</td>\n",
       "      <td>4</td>\n",
       "      <td>4</td>\n",
       "      <td>5</td>\n",
       "    </tr>\n",
       "    <tr>\n",
       "      <th>...</th>\n",
       "      <td>...</td>\n",
       "      <td>...</td>\n",
       "      <td>...</td>\n",
       "      <td>...</td>\n",
       "      <td>...</td>\n",
       "      <td>...</td>\n",
       "      <td>...</td>\n",
       "      <td>...</td>\n",
       "      <td>...</td>\n",
       "      <td>...</td>\n",
       "      <td>...</td>\n",
       "      <td>...</td>\n",
       "      <td>...</td>\n",
       "      <td>...</td>\n",
       "      <td>...</td>\n",
       "      <td>...</td>\n",
       "      <td>...</td>\n",
       "      <td>...</td>\n",
       "      <td>...</td>\n",
       "      <td>...</td>\n",
       "      <td>...</td>\n",
       "    </tr>\n",
       "    <tr>\n",
       "      <th>9995</th>\n",
       "      <td>9996</td>\n",
       "      <td>M324793</td>\n",
       "      <td>45deb5a2-ae04-4518-bf0b-c82db8dbe4a4</td>\n",
       "      <td>Mount Holly</td>\n",
       "      <td>VT</td>\n",
       "      <td>Rutland</td>\n",
       "      <td>5758</td>\n",
       "      <td>43.43391</td>\n",
       "      <td>-72.78734</td>\n",
       "      <td>640</td>\n",
       "      <td>...</td>\n",
       "      <td>159.828800</td>\n",
       "      <td>6511.253000</td>\n",
       "      <td>3</td>\n",
       "      <td>2</td>\n",
       "      <td>3</td>\n",
       "      <td>3</td>\n",
       "      <td>4</td>\n",
       "      <td>3</td>\n",
       "      <td>2</td>\n",
       "      <td>3</td>\n",
       "    </tr>\n",
       "    <tr>\n",
       "      <th>9996</th>\n",
       "      <td>9997</td>\n",
       "      <td>D861732</td>\n",
       "      <td>6e96b921-0c09-4993-bbda-a1ac6411061a</td>\n",
       "      <td>Clarksville</td>\n",
       "      <td>TN</td>\n",
       "      <td>Montgomery</td>\n",
       "      <td>37042</td>\n",
       "      <td>36.56907</td>\n",
       "      <td>-87.41694</td>\n",
       "      <td>77168</td>\n",
       "      <td>...</td>\n",
       "      <td>208.856400</td>\n",
       "      <td>5695.952000</td>\n",
       "      <td>4</td>\n",
       "      <td>5</td>\n",
       "      <td>5</td>\n",
       "      <td>4</td>\n",
       "      <td>4</td>\n",
       "      <td>5</td>\n",
       "      <td>2</td>\n",
       "      <td>5</td>\n",
       "    </tr>\n",
       "    <tr>\n",
       "      <th>9997</th>\n",
       "      <td>9998</td>\n",
       "      <td>I243405</td>\n",
       "      <td>e8307ddf-9a01-4fff-bc59-4742e03fd24f</td>\n",
       "      <td>Mobeetie</td>\n",
       "      <td>TX</td>\n",
       "      <td>Wheeler</td>\n",
       "      <td>79061</td>\n",
       "      <td>35.52039</td>\n",
       "      <td>-100.44180</td>\n",
       "      <td>406</td>\n",
       "      <td>...</td>\n",
       "      <td>168.220900</td>\n",
       "      <td>4159.306000</td>\n",
       "      <td>4</td>\n",
       "      <td>4</td>\n",
       "      <td>4</td>\n",
       "      <td>4</td>\n",
       "      <td>4</td>\n",
       "      <td>4</td>\n",
       "      <td>4</td>\n",
       "      <td>5</td>\n",
       "    </tr>\n",
       "    <tr>\n",
       "      <th>9998</th>\n",
       "      <td>9999</td>\n",
       "      <td>I641617</td>\n",
       "      <td>3775ccfc-0052-4107-81ae-9657f81ecdf3</td>\n",
       "      <td>Carrollton</td>\n",
       "      <td>GA</td>\n",
       "      <td>Carroll</td>\n",
       "      <td>30117</td>\n",
       "      <td>33.58016</td>\n",
       "      <td>-85.13241</td>\n",
       "      <td>35575</td>\n",
       "      <td>...</td>\n",
       "      <td>252.628600</td>\n",
       "      <td>6468.457000</td>\n",
       "      <td>4</td>\n",
       "      <td>4</td>\n",
       "      <td>6</td>\n",
       "      <td>4</td>\n",
       "      <td>3</td>\n",
       "      <td>3</td>\n",
       "      <td>5</td>\n",
       "      <td>4</td>\n",
       "    </tr>\n",
       "    <tr>\n",
       "      <th>9999</th>\n",
       "      <td>10000</td>\n",
       "      <td>T38070</td>\n",
       "      <td>9de5fb6e-bd33-4995-aec8-f01d0172a499</td>\n",
       "      <td>Clarkesville</td>\n",
       "      <td>GA</td>\n",
       "      <td>Habersham</td>\n",
       "      <td>30523</td>\n",
       "      <td>34.70783</td>\n",
       "      <td>-83.53648</td>\n",
       "      <td>12230</td>\n",
       "      <td>...</td>\n",
       "      <td>218.371000</td>\n",
       "      <td>5857.586000</td>\n",
       "      <td>2</td>\n",
       "      <td>2</td>\n",
       "      <td>3</td>\n",
       "      <td>3</td>\n",
       "      <td>3</td>\n",
       "      <td>3</td>\n",
       "      <td>4</td>\n",
       "      <td>1</td>\n",
       "    </tr>\n",
       "  </tbody>\n",
       "</table>\n",
       "<p>10000 rows × 51 columns</p>\n",
       "</div>"
      ],
      "text/plain": [
       "      CaseOrder Customer_id                           Interaction  \\\n",
       "0             1     K409198  aa90260b-4141-4a24-8e36-b04ce1f4f77b   \n",
       "1             2     S120509  fb76459f-c047-4a9d-8af9-e0f7d4ac2524   \n",
       "2             3     K191035  344d114c-3736-4be5-98f7-c72c281e2d35   \n",
       "3             4      D90850  abfa2b40-2d43-4994-b15a-989b8c79e311   \n",
       "4             5     K662701  68a861fd-0d20-4e51-a587-8a90407ee574   \n",
       "...         ...         ...                                   ...   \n",
       "9995       9996     M324793  45deb5a2-ae04-4518-bf0b-c82db8dbe4a4   \n",
       "9996       9997     D861732  6e96b921-0c09-4993-bbda-a1ac6411061a   \n",
       "9997       9998     I243405  e8307ddf-9a01-4fff-bc59-4742e03fd24f   \n",
       "9998       9999     I641617  3775ccfc-0052-4107-81ae-9657f81ecdf3   \n",
       "9999      10000      T38070  9de5fb6e-bd33-4995-aec8-f01d0172a499   \n",
       "\n",
       "              City State                 County    Zip       Lat        Lng  \\\n",
       "0      Point Baker    AK  Prince of Wales-Hyder  99927  56.25100 -133.37571   \n",
       "1      West Branch    MI                 Ogemaw  48661  44.32893  -84.24080   \n",
       "2          Yamhill    OR                Yamhill  97148  45.35589 -123.24657   \n",
       "3          Del Mar    CA              San Diego  92014  32.96687 -117.24798   \n",
       "4        Needville    TX              Fort Bend  77461  29.38012  -95.80673   \n",
       "...            ...   ...                    ...    ...       ...        ...   \n",
       "9995   Mount Holly    VT                Rutland   5758  43.43391  -72.78734   \n",
       "9996   Clarksville    TN             Montgomery  37042  36.56907  -87.41694   \n",
       "9997      Mobeetie    TX                Wheeler  79061  35.52039 -100.44180   \n",
       "9998    Carrollton    GA                Carroll  30117  33.58016  -85.13241   \n",
       "9999  Clarkesville    GA              Habersham  30523  34.70783  -83.53648   \n",
       "\n",
       "      Population  ... MonthlyCharge Bandwidth_GB_Year Responses  Fixes  \\\n",
       "0             38  ...    171.449762        904.536110         5      5   \n",
       "1          10446  ...    242.948015        800.982766         3      4   \n",
       "2           3735  ...    159.440398       2054.706961         4      4   \n",
       "3          13863  ...    120.249493       2164.579412         4      4   \n",
       "4          11352  ...    150.761216        271.493436         4      4   \n",
       "...          ...  ...           ...               ...       ...    ...   \n",
       "9995         640  ...    159.828800       6511.253000         3      2   \n",
       "9996       77168  ...    208.856400       5695.952000         4      5   \n",
       "9997         406  ...    168.220900       4159.306000         4      4   \n",
       "9998       35575  ...    252.628600       6468.457000         4      4   \n",
       "9999       12230  ...    218.371000       5857.586000         2      2   \n",
       "\n",
       "      Replacements Reliability Options  Respectfulness Courteous Listening  \n",
       "0                5           3       4               4         3         4  \n",
       "1                3           3       4               3         4         4  \n",
       "2                2           4       4               3         3         3  \n",
       "3                4           2       5               4         3         3  \n",
       "4                4           3       4               4         4         5  \n",
       "...            ...         ...     ...             ...       ...       ...  \n",
       "9995             3           3       4               3         2         3  \n",
       "9996             5           4       4               5         2         5  \n",
       "9997             4           4       4               4         4         5  \n",
       "9998             6           4       3               3         5         4  \n",
       "9999             3           3       3               3         4         1  \n",
       "\n",
       "[10000 rows x 51 columns]"
      ]
     },
     "execution_count": 11,
     "metadata": {},
     "output_type": "execute_result"
    }
   ],
   "source": [
    "clean_df"
   ]
  },
  {
   "cell_type": "code",
   "execution_count": 12,
   "metadata": {},
   "outputs": [],
   "source": [
    "clean_df2 = clean_df.drop(columns=['CaseOrder', 'Zip', 'Lat', 'Lng'])"
   ]
  },
  {
   "cell_type": "code",
   "execution_count": 13,
   "metadata": {},
   "outputs": [
    {
     "data": {
      "text/html": [
       "<div>\n",
       "<style scoped>\n",
       "    .dataframe tbody tr th:only-of-type {\n",
       "        vertical-align: middle;\n",
       "    }\n",
       "\n",
       "    .dataframe tbody tr th {\n",
       "        vertical-align: top;\n",
       "    }\n",
       "\n",
       "    .dataframe thead th {\n",
       "        text-align: right;\n",
       "    }\n",
       "</style>\n",
       "<table border=\"1\" class=\"dataframe\">\n",
       "  <thead>\n",
       "    <tr style=\"text-align: right;\">\n",
       "      <th></th>\n",
       "      <th>Customer_id</th>\n",
       "      <th>Interaction</th>\n",
       "      <th>City</th>\n",
       "      <th>State</th>\n",
       "      <th>County</th>\n",
       "      <th>Population</th>\n",
       "      <th>Area</th>\n",
       "      <th>Timezone</th>\n",
       "      <th>Job</th>\n",
       "      <th>Children</th>\n",
       "      <th>...</th>\n",
       "      <th>MonthlyCharge</th>\n",
       "      <th>Bandwidth_GB_Year</th>\n",
       "      <th>Responses</th>\n",
       "      <th>Fixes</th>\n",
       "      <th>Replacements</th>\n",
       "      <th>Reliability</th>\n",
       "      <th>Options</th>\n",
       "      <th>Respectfulness</th>\n",
       "      <th>Courteous</th>\n",
       "      <th>Listening</th>\n",
       "    </tr>\n",
       "  </thead>\n",
       "  <tbody>\n",
       "    <tr>\n",
       "      <th>0</th>\n",
       "      <td>K409198</td>\n",
       "      <td>aa90260b-4141-4a24-8e36-b04ce1f4f77b</td>\n",
       "      <td>Point Baker</td>\n",
       "      <td>AK</td>\n",
       "      <td>Prince of Wales-Hyder</td>\n",
       "      <td>38</td>\n",
       "      <td>Urban</td>\n",
       "      <td>America/Sitka</td>\n",
       "      <td>Environmental health practitioner</td>\n",
       "      <td>NaN</td>\n",
       "      <td>...</td>\n",
       "      <td>171.449762</td>\n",
       "      <td>904.536110</td>\n",
       "      <td>5</td>\n",
       "      <td>5</td>\n",
       "      <td>5</td>\n",
       "      <td>3</td>\n",
       "      <td>4</td>\n",
       "      <td>4</td>\n",
       "      <td>3</td>\n",
       "      <td>4</td>\n",
       "    </tr>\n",
       "    <tr>\n",
       "      <th>1</th>\n",
       "      <td>S120509</td>\n",
       "      <td>fb76459f-c047-4a9d-8af9-e0f7d4ac2524</td>\n",
       "      <td>West Branch</td>\n",
       "      <td>MI</td>\n",
       "      <td>Ogemaw</td>\n",
       "      <td>10446</td>\n",
       "      <td>Urban</td>\n",
       "      <td>America/Detroit</td>\n",
       "      <td>Programmer, multimedia</td>\n",
       "      <td>1.0</td>\n",
       "      <td>...</td>\n",
       "      <td>242.948015</td>\n",
       "      <td>800.982766</td>\n",
       "      <td>3</td>\n",
       "      <td>4</td>\n",
       "      <td>3</td>\n",
       "      <td>3</td>\n",
       "      <td>4</td>\n",
       "      <td>3</td>\n",
       "      <td>4</td>\n",
       "      <td>4</td>\n",
       "    </tr>\n",
       "    <tr>\n",
       "      <th>2</th>\n",
       "      <td>K191035</td>\n",
       "      <td>344d114c-3736-4be5-98f7-c72c281e2d35</td>\n",
       "      <td>Yamhill</td>\n",
       "      <td>OR</td>\n",
       "      <td>Yamhill</td>\n",
       "      <td>3735</td>\n",
       "      <td>Urban</td>\n",
       "      <td>America/Los_Angeles</td>\n",
       "      <td>Chief Financial Officer</td>\n",
       "      <td>4.0</td>\n",
       "      <td>...</td>\n",
       "      <td>159.440398</td>\n",
       "      <td>2054.706961</td>\n",
       "      <td>4</td>\n",
       "      <td>4</td>\n",
       "      <td>2</td>\n",
       "      <td>4</td>\n",
       "      <td>4</td>\n",
       "      <td>3</td>\n",
       "      <td>3</td>\n",
       "      <td>3</td>\n",
       "    </tr>\n",
       "    <tr>\n",
       "      <th>3</th>\n",
       "      <td>D90850</td>\n",
       "      <td>abfa2b40-2d43-4994-b15a-989b8c79e311</td>\n",
       "      <td>Del Mar</td>\n",
       "      <td>CA</td>\n",
       "      <td>San Diego</td>\n",
       "      <td>13863</td>\n",
       "      <td>Suburban</td>\n",
       "      <td>America/Los_Angeles</td>\n",
       "      <td>Solicitor</td>\n",
       "      <td>1.0</td>\n",
       "      <td>...</td>\n",
       "      <td>120.249493</td>\n",
       "      <td>2164.579412</td>\n",
       "      <td>4</td>\n",
       "      <td>4</td>\n",
       "      <td>4</td>\n",
       "      <td>2</td>\n",
       "      <td>5</td>\n",
       "      <td>4</td>\n",
       "      <td>3</td>\n",
       "      <td>3</td>\n",
       "    </tr>\n",
       "    <tr>\n",
       "      <th>4</th>\n",
       "      <td>K662701</td>\n",
       "      <td>68a861fd-0d20-4e51-a587-8a90407ee574</td>\n",
       "      <td>Needville</td>\n",
       "      <td>TX</td>\n",
       "      <td>Fort Bend</td>\n",
       "      <td>11352</td>\n",
       "      <td>Suburban</td>\n",
       "      <td>America/Chicago</td>\n",
       "      <td>Medical illustrator</td>\n",
       "      <td>0.0</td>\n",
       "      <td>...</td>\n",
       "      <td>150.761216</td>\n",
       "      <td>271.493436</td>\n",
       "      <td>4</td>\n",
       "      <td>4</td>\n",
       "      <td>4</td>\n",
       "      <td>3</td>\n",
       "      <td>4</td>\n",
       "      <td>4</td>\n",
       "      <td>4</td>\n",
       "      <td>5</td>\n",
       "    </tr>\n",
       "    <tr>\n",
       "      <th>...</th>\n",
       "      <td>...</td>\n",
       "      <td>...</td>\n",
       "      <td>...</td>\n",
       "      <td>...</td>\n",
       "      <td>...</td>\n",
       "      <td>...</td>\n",
       "      <td>...</td>\n",
       "      <td>...</td>\n",
       "      <td>...</td>\n",
       "      <td>...</td>\n",
       "      <td>...</td>\n",
       "      <td>...</td>\n",
       "      <td>...</td>\n",
       "      <td>...</td>\n",
       "      <td>...</td>\n",
       "      <td>...</td>\n",
       "      <td>...</td>\n",
       "      <td>...</td>\n",
       "      <td>...</td>\n",
       "      <td>...</td>\n",
       "      <td>...</td>\n",
       "    </tr>\n",
       "    <tr>\n",
       "      <th>9995</th>\n",
       "      <td>M324793</td>\n",
       "      <td>45deb5a2-ae04-4518-bf0b-c82db8dbe4a4</td>\n",
       "      <td>Mount Holly</td>\n",
       "      <td>VT</td>\n",
       "      <td>Rutland</td>\n",
       "      <td>640</td>\n",
       "      <td>Rural</td>\n",
       "      <td>America/New_York</td>\n",
       "      <td>Sport and exercise psychologist</td>\n",
       "      <td>3.0</td>\n",
       "      <td>...</td>\n",
       "      <td>159.828800</td>\n",
       "      <td>6511.253000</td>\n",
       "      <td>3</td>\n",
       "      <td>2</td>\n",
       "      <td>3</td>\n",
       "      <td>3</td>\n",
       "      <td>4</td>\n",
       "      <td>3</td>\n",
       "      <td>2</td>\n",
       "      <td>3</td>\n",
       "    </tr>\n",
       "    <tr>\n",
       "      <th>9996</th>\n",
       "      <td>D861732</td>\n",
       "      <td>6e96b921-0c09-4993-bbda-a1ac6411061a</td>\n",
       "      <td>Clarksville</td>\n",
       "      <td>TN</td>\n",
       "      <td>Montgomery</td>\n",
       "      <td>77168</td>\n",
       "      <td>Rural</td>\n",
       "      <td>America/Chicago</td>\n",
       "      <td>Consulting civil engineer</td>\n",
       "      <td>4.0</td>\n",
       "      <td>...</td>\n",
       "      <td>208.856400</td>\n",
       "      <td>5695.952000</td>\n",
       "      <td>4</td>\n",
       "      <td>5</td>\n",
       "      <td>5</td>\n",
       "      <td>4</td>\n",
       "      <td>4</td>\n",
       "      <td>5</td>\n",
       "      <td>2</td>\n",
       "      <td>5</td>\n",
       "    </tr>\n",
       "    <tr>\n",
       "      <th>9997</th>\n",
       "      <td>I243405</td>\n",
       "      <td>e8307ddf-9a01-4fff-bc59-4742e03fd24f</td>\n",
       "      <td>Mobeetie</td>\n",
       "      <td>TX</td>\n",
       "      <td>Wheeler</td>\n",
       "      <td>406</td>\n",
       "      <td>Rural</td>\n",
       "      <td>America/Chicago</td>\n",
       "      <td>IT technical support officer</td>\n",
       "      <td>NaN</td>\n",
       "      <td>...</td>\n",
       "      <td>168.220900</td>\n",
       "      <td>4159.306000</td>\n",
       "      <td>4</td>\n",
       "      <td>4</td>\n",
       "      <td>4</td>\n",
       "      <td>4</td>\n",
       "      <td>4</td>\n",
       "      <td>4</td>\n",
       "      <td>4</td>\n",
       "      <td>5</td>\n",
       "    </tr>\n",
       "    <tr>\n",
       "      <th>9998</th>\n",
       "      <td>I641617</td>\n",
       "      <td>3775ccfc-0052-4107-81ae-9657f81ecdf3</td>\n",
       "      <td>Carrollton</td>\n",
       "      <td>GA</td>\n",
       "      <td>Carroll</td>\n",
       "      <td>35575</td>\n",
       "      <td>Urban</td>\n",
       "      <td>America/New_York</td>\n",
       "      <td>Water engineer</td>\n",
       "      <td>1.0</td>\n",
       "      <td>...</td>\n",
       "      <td>252.628600</td>\n",
       "      <td>6468.457000</td>\n",
       "      <td>4</td>\n",
       "      <td>4</td>\n",
       "      <td>6</td>\n",
       "      <td>4</td>\n",
       "      <td>3</td>\n",
       "      <td>3</td>\n",
       "      <td>5</td>\n",
       "      <td>4</td>\n",
       "    </tr>\n",
       "    <tr>\n",
       "      <th>9999</th>\n",
       "      <td>T38070</td>\n",
       "      <td>9de5fb6e-bd33-4995-aec8-f01d0172a499</td>\n",
       "      <td>Clarkesville</td>\n",
       "      <td>GA</td>\n",
       "      <td>Habersham</td>\n",
       "      <td>12230</td>\n",
       "      <td>Urban</td>\n",
       "      <td>America/New_York</td>\n",
       "      <td>Personal assistant</td>\n",
       "      <td>1.0</td>\n",
       "      <td>...</td>\n",
       "      <td>218.371000</td>\n",
       "      <td>5857.586000</td>\n",
       "      <td>2</td>\n",
       "      <td>2</td>\n",
       "      <td>3</td>\n",
       "      <td>3</td>\n",
       "      <td>3</td>\n",
       "      <td>3</td>\n",
       "      <td>4</td>\n",
       "      <td>1</td>\n",
       "    </tr>\n",
       "  </tbody>\n",
       "</table>\n",
       "<p>10000 rows × 47 columns</p>\n",
       "</div>"
      ],
      "text/plain": [
       "     Customer_id                           Interaction          City State  \\\n",
       "0        K409198  aa90260b-4141-4a24-8e36-b04ce1f4f77b   Point Baker    AK   \n",
       "1        S120509  fb76459f-c047-4a9d-8af9-e0f7d4ac2524   West Branch    MI   \n",
       "2        K191035  344d114c-3736-4be5-98f7-c72c281e2d35       Yamhill    OR   \n",
       "3         D90850  abfa2b40-2d43-4994-b15a-989b8c79e311       Del Mar    CA   \n",
       "4        K662701  68a861fd-0d20-4e51-a587-8a90407ee574     Needville    TX   \n",
       "...          ...                                   ...           ...   ...   \n",
       "9995     M324793  45deb5a2-ae04-4518-bf0b-c82db8dbe4a4   Mount Holly    VT   \n",
       "9996     D861732  6e96b921-0c09-4993-bbda-a1ac6411061a   Clarksville    TN   \n",
       "9997     I243405  e8307ddf-9a01-4fff-bc59-4742e03fd24f      Mobeetie    TX   \n",
       "9998     I641617  3775ccfc-0052-4107-81ae-9657f81ecdf3    Carrollton    GA   \n",
       "9999      T38070  9de5fb6e-bd33-4995-aec8-f01d0172a499  Clarkesville    GA   \n",
       "\n",
       "                     County  Population      Area             Timezone  \\\n",
       "0     Prince of Wales-Hyder          38     Urban        America/Sitka   \n",
       "1                    Ogemaw       10446     Urban      America/Detroit   \n",
       "2                   Yamhill        3735     Urban  America/Los_Angeles   \n",
       "3                 San Diego       13863  Suburban  America/Los_Angeles   \n",
       "4                 Fort Bend       11352  Suburban      America/Chicago   \n",
       "...                     ...         ...       ...                  ...   \n",
       "9995                Rutland         640     Rural     America/New_York   \n",
       "9996             Montgomery       77168     Rural      America/Chicago   \n",
       "9997                Wheeler         406     Rural      America/Chicago   \n",
       "9998                Carroll       35575     Urban     America/New_York   \n",
       "9999              Habersham       12230     Urban     America/New_York   \n",
       "\n",
       "                                    Job  Children  ...  MonthlyCharge  \\\n",
       "0     Environmental health practitioner       NaN  ...     171.449762   \n",
       "1                Programmer, multimedia       1.0  ...     242.948015   \n",
       "2               Chief Financial Officer       4.0  ...     159.440398   \n",
       "3                             Solicitor       1.0  ...     120.249493   \n",
       "4                   Medical illustrator       0.0  ...     150.761216   \n",
       "...                                 ...       ...  ...            ...   \n",
       "9995    Sport and exercise psychologist       3.0  ...     159.828800   \n",
       "9996          Consulting civil engineer       4.0  ...     208.856400   \n",
       "9997       IT technical support officer       NaN  ...     168.220900   \n",
       "9998                     Water engineer       1.0  ...     252.628600   \n",
       "9999                 Personal assistant       1.0  ...     218.371000   \n",
       "\n",
       "     Bandwidth_GB_Year Responses  Fixes Replacements Reliability Options  \\\n",
       "0           904.536110         5      5            5           3       4   \n",
       "1           800.982766         3      4            3           3       4   \n",
       "2          2054.706961         4      4            2           4       4   \n",
       "3          2164.579412         4      4            4           2       5   \n",
       "4           271.493436         4      4            4           3       4   \n",
       "...                ...       ...    ...          ...         ...     ...   \n",
       "9995       6511.253000         3      2            3           3       4   \n",
       "9996       5695.952000         4      5            5           4       4   \n",
       "9997       4159.306000         4      4            4           4       4   \n",
       "9998       6468.457000         4      4            6           4       3   \n",
       "9999       5857.586000         2      2            3           3       3   \n",
       "\n",
       "      Respectfulness  Courteous  Listening  \n",
       "0                  4          3          4  \n",
       "1                  3          4          4  \n",
       "2                  3          3          3  \n",
       "3                  4          3          3  \n",
       "4                  4          4          5  \n",
       "...              ...        ...        ...  \n",
       "9995               3          2          3  \n",
       "9996               5          2          5  \n",
       "9997               4          4          5  \n",
       "9998               3          5          4  \n",
       "9999               3          4          1  \n",
       "\n",
       "[10000 rows x 47 columns]"
      ]
     },
     "execution_count": 13,
     "metadata": {},
     "output_type": "execute_result"
    }
   ],
   "source": [
    "clean_df2 "
   ]
  },
  {
   "cell_type": "code",
   "execution_count": 14,
   "metadata": {},
   "outputs": [
    {
     "data": {
      "text/html": [
       "<div>\n",
       "<style scoped>\n",
       "    .dataframe tbody tr th:only-of-type {\n",
       "        vertical-align: middle;\n",
       "    }\n",
       "\n",
       "    .dataframe tbody tr th {\n",
       "        vertical-align: top;\n",
       "    }\n",
       "\n",
       "    .dataframe thead th {\n",
       "        text-align: right;\n",
       "    }\n",
       "</style>\n",
       "<table border=\"1\" class=\"dataframe\">\n",
       "  <thead>\n",
       "    <tr style=\"text-align: right;\">\n",
       "      <th></th>\n",
       "      <th>Population</th>\n",
       "      <th>Children</th>\n",
       "      <th>Age</th>\n",
       "      <th>Income</th>\n",
       "      <th>Outage_sec_perweek</th>\n",
       "      <th>Email</th>\n",
       "      <th>Contacts</th>\n",
       "      <th>Yearly_equip_failure</th>\n",
       "      <th>Tenure</th>\n",
       "      <th>MonthlyCharge</th>\n",
       "      <th>Bandwidth_GB_Year</th>\n",
       "      <th>Responses</th>\n",
       "      <th>Fixes</th>\n",
       "      <th>Replacements</th>\n",
       "      <th>Reliability</th>\n",
       "      <th>Options</th>\n",
       "      <th>Respectfulness</th>\n",
       "      <th>Courteous</th>\n",
       "      <th>Listening</th>\n",
       "    </tr>\n",
       "  </thead>\n",
       "  <tbody>\n",
       "    <tr>\n",
       "      <th>count</th>\n",
       "      <td>10000.000000</td>\n",
       "      <td>7505.000000</td>\n",
       "      <td>7525.000000</td>\n",
       "      <td>7510.000000</td>\n",
       "      <td>10000.000000</td>\n",
       "      <td>10000.000000</td>\n",
       "      <td>10000.000000</td>\n",
       "      <td>10000.000000</td>\n",
       "      <td>9069.000000</td>\n",
       "      <td>10000.000000</td>\n",
       "      <td>8979.000000</td>\n",
       "      <td>10000.000000</td>\n",
       "      <td>10000.000000</td>\n",
       "      <td>10000.000000</td>\n",
       "      <td>10000.000000</td>\n",
       "      <td>10000.000000</td>\n",
       "      <td>10000.000000</td>\n",
       "      <td>10000.000000</td>\n",
       "      <td>10000.000000</td>\n",
       "    </tr>\n",
       "    <tr>\n",
       "      <th>mean</th>\n",
       "      <td>9756.562400</td>\n",
       "      <td>2.095936</td>\n",
       "      <td>53.275748</td>\n",
       "      <td>39936.762226</td>\n",
       "      <td>11.452955</td>\n",
       "      <td>12.016000</td>\n",
       "      <td>0.994200</td>\n",
       "      <td>0.398000</td>\n",
       "      <td>34.498858</td>\n",
       "      <td>174.076305</td>\n",
       "      <td>3398.842752</td>\n",
       "      <td>3.490800</td>\n",
       "      <td>3.505100</td>\n",
       "      <td>3.487000</td>\n",
       "      <td>3.497500</td>\n",
       "      <td>3.492900</td>\n",
       "      <td>3.497300</td>\n",
       "      <td>3.509500</td>\n",
       "      <td>3.495600</td>\n",
       "    </tr>\n",
       "    <tr>\n",
       "      <th>std</th>\n",
       "      <td>14432.698671</td>\n",
       "      <td>2.154758</td>\n",
       "      <td>20.753928</td>\n",
       "      <td>28358.469482</td>\n",
       "      <td>7.025921</td>\n",
       "      <td>3.025898</td>\n",
       "      <td>0.988466</td>\n",
       "      <td>0.635953</td>\n",
       "      <td>26.438904</td>\n",
       "      <td>43.335473</td>\n",
       "      <td>2187.396807</td>\n",
       "      <td>1.037797</td>\n",
       "      <td>1.034641</td>\n",
       "      <td>1.027977</td>\n",
       "      <td>1.025816</td>\n",
       "      <td>1.024819</td>\n",
       "      <td>1.033586</td>\n",
       "      <td>1.028502</td>\n",
       "      <td>1.028633</td>\n",
       "    </tr>\n",
       "    <tr>\n",
       "      <th>min</th>\n",
       "      <td>0.000000</td>\n",
       "      <td>0.000000</td>\n",
       "      <td>18.000000</td>\n",
       "      <td>740.660000</td>\n",
       "      <td>-1.348571</td>\n",
       "      <td>1.000000</td>\n",
       "      <td>0.000000</td>\n",
       "      <td>0.000000</td>\n",
       "      <td>1.000259</td>\n",
       "      <td>77.505230</td>\n",
       "      <td>155.506715</td>\n",
       "      <td>1.000000</td>\n",
       "      <td>1.000000</td>\n",
       "      <td>1.000000</td>\n",
       "      <td>1.000000</td>\n",
       "      <td>1.000000</td>\n",
       "      <td>1.000000</td>\n",
       "      <td>1.000000</td>\n",
       "      <td>1.000000</td>\n",
       "    </tr>\n",
       "    <tr>\n",
       "      <th>25%</th>\n",
       "      <td>738.000000</td>\n",
       "      <td>0.000000</td>\n",
       "      <td>35.000000</td>\n",
       "      <td>19285.522500</td>\n",
       "      <td>8.054362</td>\n",
       "      <td>10.000000</td>\n",
       "      <td>0.000000</td>\n",
       "      <td>0.000000</td>\n",
       "      <td>7.890442</td>\n",
       "      <td>141.071078</td>\n",
       "      <td>1234.110529</td>\n",
       "      <td>3.000000</td>\n",
       "      <td>3.000000</td>\n",
       "      <td>3.000000</td>\n",
       "      <td>3.000000</td>\n",
       "      <td>3.000000</td>\n",
       "      <td>3.000000</td>\n",
       "      <td>3.000000</td>\n",
       "      <td>3.000000</td>\n",
       "    </tr>\n",
       "    <tr>\n",
       "      <th>50%</th>\n",
       "      <td>2910.500000</td>\n",
       "      <td>1.000000</td>\n",
       "      <td>53.000000</td>\n",
       "      <td>33186.785000</td>\n",
       "      <td>10.202896</td>\n",
       "      <td>12.000000</td>\n",
       "      <td>1.000000</td>\n",
       "      <td>0.000000</td>\n",
       "      <td>36.196030</td>\n",
       "      <td>169.915400</td>\n",
       "      <td>3382.424000</td>\n",
       "      <td>3.000000</td>\n",
       "      <td>4.000000</td>\n",
       "      <td>3.000000</td>\n",
       "      <td>3.000000</td>\n",
       "      <td>3.000000</td>\n",
       "      <td>3.000000</td>\n",
       "      <td>4.000000</td>\n",
       "      <td>3.000000</td>\n",
       "    </tr>\n",
       "    <tr>\n",
       "      <th>75%</th>\n",
       "      <td>13168.000000</td>\n",
       "      <td>3.000000</td>\n",
       "      <td>71.000000</td>\n",
       "      <td>53472.395000</td>\n",
       "      <td>12.487644</td>\n",
       "      <td>14.000000</td>\n",
       "      <td>2.000000</td>\n",
       "      <td>1.000000</td>\n",
       "      <td>61.426670</td>\n",
       "      <td>203.777441</td>\n",
       "      <td>5587.096500</td>\n",
       "      <td>4.000000</td>\n",
       "      <td>4.000000</td>\n",
       "      <td>4.000000</td>\n",
       "      <td>4.000000</td>\n",
       "      <td>4.000000</td>\n",
       "      <td>4.000000</td>\n",
       "      <td>4.000000</td>\n",
       "      <td>4.000000</td>\n",
       "    </tr>\n",
       "    <tr>\n",
       "      <th>max</th>\n",
       "      <td>111850.000000</td>\n",
       "      <td>10.000000</td>\n",
       "      <td>89.000000</td>\n",
       "      <td>258900.700000</td>\n",
       "      <td>47.049280</td>\n",
       "      <td>23.000000</td>\n",
       "      <td>7.000000</td>\n",
       "      <td>6.000000</td>\n",
       "      <td>71.999280</td>\n",
       "      <td>315.878600</td>\n",
       "      <td>7158.982000</td>\n",
       "      <td>7.000000</td>\n",
       "      <td>7.000000</td>\n",
       "      <td>8.000000</td>\n",
       "      <td>7.000000</td>\n",
       "      <td>7.000000</td>\n",
       "      <td>8.000000</td>\n",
       "      <td>7.000000</td>\n",
       "      <td>8.000000</td>\n",
       "    </tr>\n",
       "  </tbody>\n",
       "</table>\n",
       "</div>"
      ],
      "text/plain": [
       "          Population     Children          Age         Income  \\\n",
       "count   10000.000000  7505.000000  7525.000000    7510.000000   \n",
       "mean     9756.562400     2.095936    53.275748   39936.762226   \n",
       "std     14432.698671     2.154758    20.753928   28358.469482   \n",
       "min         0.000000     0.000000    18.000000     740.660000   \n",
       "25%       738.000000     0.000000    35.000000   19285.522500   \n",
       "50%      2910.500000     1.000000    53.000000   33186.785000   \n",
       "75%     13168.000000     3.000000    71.000000   53472.395000   \n",
       "max    111850.000000    10.000000    89.000000  258900.700000   \n",
       "\n",
       "       Outage_sec_perweek         Email      Contacts  Yearly_equip_failure  \\\n",
       "count        10000.000000  10000.000000  10000.000000          10000.000000   \n",
       "mean            11.452955     12.016000      0.994200              0.398000   \n",
       "std              7.025921      3.025898      0.988466              0.635953   \n",
       "min             -1.348571      1.000000      0.000000              0.000000   \n",
       "25%              8.054362     10.000000      0.000000              0.000000   \n",
       "50%             10.202896     12.000000      1.000000              0.000000   \n",
       "75%             12.487644     14.000000      2.000000              1.000000   \n",
       "max             47.049280     23.000000      7.000000              6.000000   \n",
       "\n",
       "            Tenure  MonthlyCharge  Bandwidth_GB_Year     Responses  \\\n",
       "count  9069.000000   10000.000000        8979.000000  10000.000000   \n",
       "mean     34.498858     174.076305        3398.842752      3.490800   \n",
       "std      26.438904      43.335473        2187.396807      1.037797   \n",
       "min       1.000259      77.505230         155.506715      1.000000   \n",
       "25%       7.890442     141.071078        1234.110529      3.000000   \n",
       "50%      36.196030     169.915400        3382.424000      3.000000   \n",
       "75%      61.426670     203.777441        5587.096500      4.000000   \n",
       "max      71.999280     315.878600        7158.982000      7.000000   \n",
       "\n",
       "              Fixes  Replacements   Reliability       Options  Respectfulness  \\\n",
       "count  10000.000000  10000.000000  10000.000000  10000.000000    10000.000000   \n",
       "mean       3.505100      3.487000      3.497500      3.492900        3.497300   \n",
       "std        1.034641      1.027977      1.025816      1.024819        1.033586   \n",
       "min        1.000000      1.000000      1.000000      1.000000        1.000000   \n",
       "25%        3.000000      3.000000      3.000000      3.000000        3.000000   \n",
       "50%        4.000000      3.000000      3.000000      3.000000        3.000000   \n",
       "75%        4.000000      4.000000      4.000000      4.000000        4.000000   \n",
       "max        7.000000      8.000000      7.000000      7.000000        8.000000   \n",
       "\n",
       "          Courteous     Listening  \n",
       "count  10000.000000  10000.000000  \n",
       "mean       3.509500      3.495600  \n",
       "std        1.028502      1.028633  \n",
       "min        1.000000      1.000000  \n",
       "25%        3.000000      3.000000  \n",
       "50%        4.000000      3.000000  \n",
       "75%        4.000000      4.000000  \n",
       "max        7.000000      8.000000  "
      ]
     },
     "execution_count": 14,
     "metadata": {},
     "output_type": "execute_result"
    }
   ],
   "source": [
    "clean_df2.describe()"
   ]
  },
  {
   "cell_type": "code",
   "execution_count": 15,
   "metadata": {},
   "outputs": [
    {
     "data": {
      "text/plain": [
       "No     7350\n",
       "Yes    2650\n",
       "Name: Churn, dtype: int64"
      ]
     },
     "execution_count": 15,
     "metadata": {},
     "output_type": "execute_result"
    }
   ],
   "source": [
    "clean_df2.Churn.value_counts()"
   ]
  },
  {
   "cell_type": "code",
   "execution_count": 16,
   "metadata": {},
   "outputs": [
    {
     "data": {
      "text/plain": [
       "<AxesSubplot:>"
      ]
     },
     "execution_count": 16,
     "metadata": {},
     "output_type": "execute_result"
    },
    {
     "data": {
      "image/png": "[encoded data removed]",
      "text/plain": [
       "<Figure size 1800x720 with 2 Axes>"
      ]
     },
     "metadata": {
      "needs_background": "light"
     },
     "output_type": "display_data"
    }
   ],
   "source": [
    "msno.matrix(clean_df2)"
   ]
  },
  {
   "cell_type": "markdown",
   "metadata": {},
   "source": [
    "There are nulls present in the columns: children, age, income, phone, TechSupport, Tenure, Bandwidth_GB_Year"
   ]
  },
  {
   "cell_type": "code",
   "execution_count": 17,
   "metadata": {},
   "outputs": [
    {
     "data": {
      "text/plain": [
       "Customer_id                0\n",
       "Interaction                0\n",
       "City                       0\n",
       "State                      0\n",
       "County                     0\n",
       "Population                 0\n",
       "Area                       0\n",
       "Timezone                   0\n",
       "Job                        0\n",
       "Children                2495\n",
       "Age                     2475\n",
       "Education                  0\n",
       "Employment                 0\n",
       "Income                  2490\n",
       "Marital                    0\n",
       "Gender                     0\n",
       "Churn                      0\n",
       "Outage_sec_perweek         0\n",
       "Email                      0\n",
       "Contacts                   0\n",
       "Yearly_equip_failure       0\n",
       "Techie                  2477\n",
       "Contract                   0\n",
       "Port_modem                 0\n",
       "Tablet                     0\n",
       "InternetService            0\n",
       "Phone                   1026\n",
       "Multiple                   0\n",
       "OnlineSecurity             0\n",
       "OnlineBackup               0\n",
       "DeviceProtection           0\n",
       "TechSupport              991\n",
       "StreamingTV                0\n",
       "StreamingMovies            0\n",
       "PaperlessBilling           0\n",
       "PaymentMethod              0\n",
       "Tenure                   931\n",
       "MonthlyCharge              0\n",
       "Bandwidth_GB_Year       1021\n",
       "Responses                  0\n",
       "Fixes                      0\n",
       "Replacements               0\n",
       "Reliability                0\n",
       "Options                    0\n",
       "Respectfulness             0\n",
       "Courteous                  0\n",
       "Listening                  0\n",
       "dtype: int64"
      ]
     },
     "execution_count": 17,
     "metadata": {},
     "output_type": "execute_result"
    }
   ],
   "source": [
    "clean_df2.isnull().sum()"
   ]
  },
  {
   "cell_type": "code",
   "execution_count": 18,
   "metadata": {},
   "outputs": [
    {
     "data": {
      "text/plain": [
       "Customer_id             0.0000\n",
       "Interaction             0.0000\n",
       "City                    0.0000\n",
       "State                   0.0000\n",
       "County                  0.0000\n",
       "Population              0.0000\n",
       "Area                    0.0000\n",
       "Timezone                0.0000\n",
       "Job                     0.0000\n",
       "Children                0.2495\n",
       "Age                     0.2475\n",
       "Education               0.0000\n",
       "Employment              0.0000\n",
       "Income                  0.2490\n",
       "Marital                 0.0000\n",
       "Gender                  0.0000\n",
       "Churn                   0.0000\n",
       "Outage_sec_perweek      0.0000\n",
       "Email                   0.0000\n",
       "Contacts                0.0000\n",
       "Yearly_equip_failure    0.0000\n",
       "Techie                  0.2477\n",
       "Contract                0.0000\n",
       "Port_modem              0.0000\n",
       "Tablet                  0.0000\n",
       "InternetService         0.0000\n",
       "Phone                   0.1026\n",
       "Multiple                0.0000\n",
       "OnlineSecurity          0.0000\n",
       "OnlineBackup            0.0000\n",
       "DeviceProtection        0.0000\n",
       "TechSupport             0.0991\n",
       "StreamingTV             0.0000\n",
       "StreamingMovies         0.0000\n",
       "PaperlessBilling        0.0000\n",
       "PaymentMethod           0.0000\n",
       "Tenure                  0.0931\n",
       "MonthlyCharge           0.0000\n",
       "Bandwidth_GB_Year       0.1021\n",
       "Responses               0.0000\n",
       "Fixes                   0.0000\n",
       "Replacements            0.0000\n",
       "Reliability             0.0000\n",
       "Options                 0.0000\n",
       "Respectfulness          0.0000\n",
       "Courteous               0.0000\n",
       "Listening               0.0000\n",
       "dtype: float64"
      ]
     },
     "execution_count": 18,
     "metadata": {},
     "output_type": "execute_result"
    }
   ],
   "source": [
    "clean_df2.isnull().sum()/clean_df2.shape[0]"
   ]
  },
  {
   "cell_type": "code",
   "execution_count": 19,
   "metadata": {},
   "outputs": [],
   "source": [
    "features = ['Employment', 'Area', 'Job', 'Children', 'Age', 'Education', 'Employment', 'Marital', 'Gender', 'Contract', 'PaymentMethod']"
   ]
  },
  {
   "cell_type": "code",
   "execution_count": 20,
   "metadata": {},
   "outputs": [
    {
     "name": "stdout",
     "output_type": "stream",
     "text": [
      "\n",
      "\n",
      "Employment\n",
      "-------------------------\n",
      "['Full Time', 'Part Time', 'Retired', 'Student', 'Unemployed']\n",
      "\n",
      "\n",
      "Area\n",
      "-------------------------\n",
      "['Rural', 'Suburban', 'Urban']\n",
      "\n",
      "\n",
      "Job\n",
      "-------------------------\n",
      "['Academic librarian', 'Accommodation manager', 'Accountant, chartered', 'Accountant, chartered certified', 'Accountant, chartered management', 'Accountant, chartered public finance', 'Accounting technician', 'Actor', 'Actuary', 'Acupuncturist', 'Administrator', 'Administrator, Civil Service', 'Administrator, arts', 'Administrator, charities/voluntary organisations', 'Administrator, education', 'Administrator, local government', 'Administrator, sports', 'Adult guidance worker', 'Adult nurse', 'Advertising account executive', 'Advertising account planner', 'Advertising art director', 'Advertising copywriter', 'Advice worker', 'Aeronautical engineer', 'Agricultural consultant', 'Agricultural engineer', 'Aid worker', 'Air broker', 'Air cabin crew', 'Air traffic controller', 'Airline pilot', 'Ambulance person', 'Amenity horticulturist', 'Analytical chemist', 'Animal nutritionist', 'Animal technologist', 'Animator', 'Applications developer', 'Arboriculturist', 'Archaeologist', 'Architect', 'Architectural technologist', 'Archivist', 'Armed forces logistics/support/administrative officer', 'Armed forces operational officer', 'Armed forces technical officer', 'Armed forces training and education officer', 'Art gallery manager', 'Art therapist', 'Artist', 'Arts administrator', 'Arts development officer', 'Associate Professor', 'Astronomer', 'Audiological scientist', 'Automotive engineer', 'Banker', 'Barista', 'Barrister', \"Barrister's clerk\", 'Best boy', 'Biochemist, clinical', 'Biomedical engineer', 'Biomedical scientist', 'Bonds trader', 'Bookseller', 'Brewing technologist', 'Broadcast engineer', 'Broadcast journalist', 'Broadcast presenter', 'Building control surveyor', 'Building services engineer', 'Building surveyor', 'Buyer, industrial', 'Buyer, retail', 'Cabin crew', 'Call centre manager', 'Camera operator', 'Careers adviser', 'Careers information officer', 'Cartographer', 'Catering manager', 'Ceramics designer', 'Charity fundraiser', 'Charity officer', 'Chartered accountant', 'Chartered certified accountant', 'Chartered legal executive (England and Wales)', 'Chartered loss adjuster', 'Chartered management accountant', 'Chartered public finance accountant', 'Chemical engineer', 'Chemist, analytical', 'Chief Executive Officer', 'Chief Financial Officer', 'Chief Marketing Officer', 'Chief Operating Officer', 'Chief Strategy Officer', 'Chief Technology Officer', 'Chief of Staff', 'Child psychotherapist', 'Chiropodist', 'Chiropractor', 'Civil Service administrator', 'Civil Service fast streamer', 'Civil engineer, consulting', 'Civil engineer, contracting', 'Claims inspector/assessor', 'Clinical biochemist', 'Clinical cytogeneticist', 'Clinical embryologist', 'Clinical molecular geneticist', 'Clinical psychologist', 'Clinical research associate', 'Clinical scientist, histocompatibility and immunogenetics', 'Clothing/textile technologist', 'Colour technologist', 'Commercial art gallery manager', 'Commercial horticulturist', 'Commercial/residential surveyor', 'Commissioning editor', 'Communications engineer', 'Community arts worker', 'Community development worker', 'Community education officer', 'Community pharmacist', 'Company secretary', 'Comptroller', 'Computer games developer', 'Conference centre manager', 'Conservation officer, historic buildings', 'Conservation officer, nature', 'Conservator, furniture', 'Conservator, museum/gallery', 'Consulting civil engineer', 'Contracting civil engineer', 'Contractor', 'Control and instrumentation engineer', 'Copy', 'Copywriter, advertising', 'Corporate investment banker', 'Corporate treasurer', 'Counselling psychologist', 'Counsellor', 'Curator', 'Customer service manager', 'Cytogeneticist', 'Dance movement psychotherapist', 'Dancer', 'Data processing manager', 'Data scientist', 'Database administrator', 'Dealer', 'Dentist', 'Designer, blown glass/stained glass', 'Designer, ceramics/pottery', 'Designer, exhibition/display', 'Designer, fashion/clothing', 'Designer, furniture', 'Designer, graphic', 'Designer, industrial/product', 'Designer, interior/spatial', 'Designer, jewellery', 'Designer, multimedia', 'Designer, television/film set', 'Designer, textile', 'Development worker, community', 'Development worker, international aid', 'Diagnostic radiographer', 'Dietitian', 'Diplomatic Services operational officer', 'Dispensing optician', 'Doctor, general practice', 'Doctor, hospital', 'Dramatherapist', 'Drilling engineer', 'Early years teacher', 'Ecologist', 'Economist', 'Editor, commissioning', 'Editor, film/video', 'Editor, magazine features', 'Editorial assistant', 'Education administrator', 'Education officer, community', 'Education officer, environmental', 'Education officer, museum', 'Educational psychologist', 'Electrical engineer', 'Electronics engineer', 'Embryologist, clinical', 'Emergency planning/management officer', 'Energy engineer', 'Energy manager', 'Engineer, aeronautical', 'Engineer, agricultural', 'Engineer, automotive', 'Engineer, biomedical', 'Engineer, broadcasting (operations)', 'Engineer, building services', 'Engineer, chemical', 'Engineer, civil (consulting)', 'Engineer, civil (contracting)', 'Engineer, communications', 'Engineer, control and instrumentation', 'Engineer, drilling', 'Engineer, electrical', 'Engineer, electronics', 'Engineer, energy', 'Engineer, land', 'Engineer, maintenance', 'Engineer, maintenance (IT)', 'Engineer, manufacturing', 'Engineer, manufacturing systems', 'Engineer, materials', 'Engineer, mining', 'Engineer, petroleum', 'Engineer, production', 'Engineer, site', 'Engineer, structural', 'Engineer, technical sales', 'Engineer, water', 'Engineering geologist', 'English as a foreign language teacher', 'English as a second language teacher', 'Environmental consultant', 'Environmental education officer', 'Environmental health practitioner', 'Environmental manager', 'Equality and diversity officer', 'Equities trader', 'Ergonomist', 'Estate agent', 'Estate manager/land agent', 'Event organiser', 'Exercise physiologist', 'Exhibition designer', 'Exhibitions officer, museum/gallery', 'Facilities manager', 'Farm manager', 'Fashion designer', 'Fast food restaurant manager', 'Field seismologist', 'Field trials officer', 'Film/video editor', 'Financial adviser', 'Financial controller', 'Financial manager', 'Financial planner', 'Financial risk analyst', 'Financial trader', 'Fine artist', 'Firefighter', 'Fish farm manager', 'Fisheries officer', 'Fitness centre manager', 'Food technologist', 'Forensic psychologist', 'Forensic scientist', 'Forest/woodland manager', 'Freight forwarder', 'Furniture conservator/restorer', 'Furniture designer', 'Further education lecturer', 'Futures trader', 'Gaffer', 'Games developer', 'Garment/textile technologist', 'General practice doctor', 'Geneticist, molecular', 'Geochemist', 'Geographical information systems officer', 'Geologist, engineering', 'Geologist, wellsite', 'Geophysical data processor', 'Geophysicist/field seismologist', 'Geoscientist', 'Glass blower/designer', 'Government social research officer', 'Graphic designer', 'Haematologist', 'Health and safety adviser', 'Health and safety inspector', 'Health physicist', 'Health promotion specialist', 'Health service manager', 'Health visitor', 'Herbalist', 'Heritage manager', 'Herpetologist', 'Higher education careers adviser', 'Higher education lecturer', 'Historic buildings inspector/conservation officer', 'Holiday representative', 'Homeopath', 'Horticultural consultant', 'Horticultural therapist', 'Horticulturist, amenity', 'Horticulturist, commercial', 'Hospital doctor', 'Hospital pharmacist', 'Hotel manager', 'Housing manager/officer', 'Human resources officer', 'Hydrogeologist', 'Hydrographic surveyor', 'Hydrologist', 'IT consultant', 'IT sales professional', 'IT technical support officer', 'IT trainer', 'Illustrator', 'Immigration officer', 'Immunologist', 'Industrial buyer', 'Industrial/product designer', 'Information officer', 'Information systems manager', 'Insurance account manager', 'Insurance broker', 'Insurance claims handler', 'Insurance risk surveyor', 'Insurance underwriter', 'Intelligence analyst', 'Interior and spatial designer', 'International aid/development worker', 'Interpreter', 'Investment analyst', 'Investment banker, corporate', 'Investment banker, operational', 'Jewellery designer', 'Journalist, broadcasting', 'Journalist, magazine', 'Journalist, newspaper', 'Land', 'Land/geomatics surveyor', 'Landscape architect', 'Lawyer', 'Learning disability nurse', 'Learning mentor', 'Lecturer, further education', 'Lecturer, higher education', 'Legal executive', 'Legal secretary', 'Leisure centre manager', 'Lexicographer', 'Librarian, academic', 'Librarian, public', 'Licensed conveyancer', 'Lighting technician, broadcasting/film/video', 'Lobbyist', 'Local government officer', 'Location manager', 'Logistics and distribution manager', 'Loss adjuster, chartered', 'Magazine features editor', 'Magazine journalist', 'Maintenance engineer', 'Make', 'Management consultant', 'Manufacturing engineer', 'Manufacturing systems engineer', 'Marine scientist', 'Market researcher', 'Marketing executive', 'Materials engineer', 'Mechanical engineer', 'Media buyer', 'Media planner', 'Medical illustrator', 'Medical laboratory scientific officer', 'Medical physicist', 'Medical sales representative', 'Medical secretary', 'Medical technical officer', 'Mental health nurse', 'Merchandiser, retail', 'Merchant navy officer', 'Metallurgist', 'Meteorologist', 'Microbiologist', 'Midwife', 'Minerals surveyor', 'Mining engineer', 'Mudlogger', 'Multimedia programmer', 'Multimedia specialist', 'Museum education officer', 'Museum/gallery conservator', 'Museum/gallery curator', 'Museum/gallery exhibitions officer', 'Music therapist', 'Music tutor', 'Musician', 'Nature conservation officer', 'Naval architect', 'Network engineer', 'Neurosurgeon', 'Newspaper journalist', 'Nurse, adult', \"Nurse, children's\", 'Nurse, learning disability', 'Nurse, mental health', 'Nutritional therapist', 'Occupational hygienist', 'Occupational psychologist', 'Occupational therapist', 'Oceanographer', 'Office manager', 'Oncologist', 'Operational investment banker', 'Operational researcher', 'Operations geologist', 'Ophthalmologist', 'Optician, dispensing', 'Optometrist', 'Orthoptist', 'Osteopath', 'Outdoor activities/education manager', 'Paediatric nurse', 'Paramedic', 'Passenger transport manager', 'Patent attorney', 'Patent examiner', 'Pathologist', 'Pension scheme manager', 'Pensions consultant', 'Personal assistant', 'Personnel officer', 'Petroleum engineer', 'Pharmacist, community', 'Pharmacist, hospital', 'Pharmacologist', 'Photographer', 'Physicist, medical', 'Physiological scientist', 'Physiotherapist', 'Phytotherapist', 'Pilot, airline', 'Planning and development surveyor', 'Plant breeder/geneticist', 'Podiatrist', 'Police officer', \"Politician's assistant\", 'Presenter, broadcasting', 'Press photographer', 'Press sub', 'Primary school teacher', 'Print production planner', 'Printmaker', 'Prison officer', 'Private music teacher', 'Probation officer', 'Producer, radio', 'Producer, television/film/video', 'Product designer', 'Product manager', 'Product/process development scientist', 'Production assistant, radio', 'Production assistant, television', 'Production designer, theatre/television/film', 'Production engineer', 'Production manager', 'Professor Emeritus', 'Programme researcher, broadcasting/film/video', 'Programmer, applications', 'Programmer, multimedia', 'Programmer, systems', 'Proofreader', 'Psychiatric nurse', 'Psychiatrist', 'Psychologist, clinical', 'Psychologist, counselling', 'Psychologist, educational', 'Psychologist, forensic', 'Psychologist, occupational', 'Psychologist, prison and probation services', 'Psychologist, sport and exercise', 'Psychotherapist', 'Psychotherapist, child', 'Psychotherapist, dance movement', 'Public affairs consultant', 'Public house manager', 'Public librarian', 'Public relations account executive', 'Public relations officer', 'Publishing copy', 'Publishing rights manager', 'Purchasing manager', 'Quality manager', 'Quantity surveyor', 'Quarry manager', 'Race relations officer', 'Radiation protection practitioner', 'Radio broadcast assistant', 'Radio producer', 'Radiographer, diagnostic', 'Radiographer, therapeutic', 'Ranger/warden', 'Records manager', 'Recruitment consultant', 'Recycling officer', 'Regulatory affairs officer', 'Research officer, government', 'Research officer, political party', 'Research officer, trade union', 'Research scientist (life sciences)', 'Research scientist (maths)', 'Research scientist (medical)', 'Research scientist (physical sciences)', 'Restaurant manager', 'Restaurant manager, fast food', 'Retail banker', 'Retail buyer', 'Retail manager', 'Retail merchandiser', 'Risk analyst', 'Risk manager', 'Runner, broadcasting/film/video', 'Rural practice surveyor', 'Sales executive', 'Sales professional, IT', 'Sales promotion account executive', 'Science writer', 'Scientific laboratory technician', 'Scientist, audiological', 'Scientist, biomedical', 'Scientist, clinical (histocompatibility and immunogenetics)', 'Scientist, forensic', 'Scientist, marine', 'Scientist, physiological', 'Scientist, product/process development', 'Scientist, research (life sciences)', 'Scientist, research (maths)', 'Scientist, research (medical)', 'Scientist, research (physical sciences)', 'Scientist, water quality', 'Secondary school teacher', 'Secretary, company', 'Secretary/administrator', 'Seismic interpreter', 'Senior tax professional/tax inspector', 'Set designer', 'Ship broker', 'Site engineer', 'Social research officer, government', 'Social researcher', 'Social worker', 'Software engineer', 'Soil scientist', 'Solicitor', 'Solicitor, Scotland', 'Sound technician, broadcasting/film/video', 'Special educational needs teacher', 'Special effects artist', 'Speech and language therapist', 'Sport and exercise psychologist', 'Sports administrator', 'Sports coach', 'Sports development officer', 'Sports therapist', 'Stage manager', 'Statistician', 'Structural engineer', 'Sub', 'Surgeon', 'Surveyor, building', 'Surveyor, building control', 'Surveyor, commercial/residential', 'Surveyor, hydrographic', 'Surveyor, insurance', 'Surveyor, land/geomatics', 'Surveyor, minerals', 'Surveyor, mining', 'Surveyor, planning and development', 'Surveyor, quantity', 'Surveyor, rural practice', 'Systems analyst', 'Systems developer', 'TEFL teacher', 'Tax adviser', 'Tax inspector', 'Teacher, English as a foreign language', 'Teacher, adult education', 'Teacher, early years/pre', 'Teacher, music', 'Teacher, primary school', 'Teacher, secondary school', 'Teacher, special educational needs', 'Teaching laboratory technician', 'Technical author', 'Technical brewer', 'Technical sales engineer', 'Telecommunications researcher', 'Television camera operator', 'Television floor manager', 'Television production assistant', 'Television/film/video producer', 'Textile designer', 'Theatre director', 'Theatre manager', 'Theatre stage manager', 'Theme park manager', 'Therapeutic radiographer', 'Therapist, art', 'Therapist, drama', 'Therapist, horticultural', 'Therapist, music', 'Therapist, nutritional', 'Therapist, occupational', 'Therapist, speech and language', 'Therapist, sports', 'Tour manager', 'Tourism officer', 'Tourist information centre manager', 'Town planner', 'Toxicologist', 'Trade mark attorney', 'Trade union research officer', 'Trading standards officer', 'Training and development officer', 'Translator', 'Transport planner', 'Travel agency manager', 'Tree surgeon', 'Veterinary surgeon', 'Video editor', 'Visual merchandiser', 'Volunteer coordinator', 'Warden/ranger', 'Warehouse manager', 'Waste management officer', 'Water engineer', 'Water quality scientist', 'Web designer', 'Wellsite geologist', 'Writer', 'Youth worker']\n",
      "\n",
      "\n",
      "Children\n",
      "-------------------------\n",
      "[nan, 0.0, 1.0, 2.0, 3.0, 4.0, 5.0, 6.0, 7.0, 8.0, 9.0, 10.0]\n",
      "\n",
      "\n",
      "Age\n",
      "-------------------------\n",
      "[23.0, 25.0, 26.0, 27.0, 30.0, 31.0, 39.0, 40.0, 41.0, 43.0, 44.0, 45.0, 47.0, 48.0, 49.0, 50.0, 51.0, 52.0, 59.0, 61.0, 68.0, 83.0, nan, 18.0, 19.0, 20.0, 21.0, 22.0, 24.0, 28.0, 29.0, 32.0, 33.0, 34.0, 35.0, 36.0, 37.0, 38.0, 42.0, 46.0, 53.0, 54.0, 55.0, 56.0, 57.0, 58.0, 60.0, 62.0, 63.0, 64.0, 65.0, 66.0, 67.0, 69.0, 70.0, 71.0, 72.0, 73.0, 74.0, 75.0, 76.0, 77.0, 78.0, 79.0, 80.0, 81.0, 82.0, 84.0, 85.0, 86.0, 87.0, 88.0, 89.0]\n",
      "\n",
      "\n",
      "Education\n",
      "-------------------------\n",
      "['9th Grade to 12th Grade, No Diploma', \"Associate's Degree\", \"Bachelor's Degree\", 'Doctorate Degree', 'GED or Alternative Credential', \"Master's Degree\", 'No Schooling Completed', 'Nursery School to 8th Grade', 'Professional School Degree', 'Regular High School Diploma', 'Some College, 1 or More Years, No Degree', 'Some College, Less than 1 Year']\n",
      "\n",
      "\n",
      "Employment\n",
      "-------------------------\n",
      "['Full Time', 'Part Time', 'Retired', 'Student', 'Unemployed']\n",
      "\n",
      "\n",
      "Marital\n",
      "-------------------------\n",
      "['Divorced', 'Married', 'Never Married', 'Separated', 'Widowed']\n",
      "\n",
      "\n",
      "Gender\n",
      "-------------------------\n",
      "['Female', 'Male', 'Prefer not to answer']\n",
      "\n",
      "\n",
      "Contract\n",
      "-------------------------\n",
      "['Month-to-month', 'One year', 'Two Year']\n",
      "\n",
      "\n",
      "PaymentMethod\n",
      "-------------------------\n",
      "['Bank Transfer(automatic)', 'Credit Card (automatic)', 'Electronic Check', 'Mailed Check']\n"
     ]
    }
   ],
   "source": [
    "for feat in features: \n",
    "    print('\\n')\n",
    "    print(feat)\n",
    "    print('-------------------------')\n",
    "    print(sorted(clean_df2[feat].unique()))"
   ]
  },
  {
   "cell_type": "code",
   "execution_count": 21,
   "metadata": {},
   "outputs": [
    {
     "data": {
      "text/html": [
       "<div>\n",
       "<style scoped>\n",
       "    .dataframe tbody tr th:only-of-type {\n",
       "        vertical-align: middle;\n",
       "    }\n",
       "\n",
       "    .dataframe tbody tr th {\n",
       "        vertical-align: top;\n",
       "    }\n",
       "\n",
       "    .dataframe thead th {\n",
       "        text-align: right;\n",
       "    }\n",
       "</style>\n",
       "<table border=\"1\" class=\"dataframe\">\n",
       "  <thead>\n",
       "    <tr style=\"text-align: right;\">\n",
       "      <th></th>\n",
       "      <th>Customer_id</th>\n",
       "      <th>Interaction</th>\n",
       "      <th>City</th>\n",
       "      <th>State</th>\n",
       "      <th>County</th>\n",
       "      <th>Population</th>\n",
       "      <th>Area</th>\n",
       "      <th>Timezone</th>\n",
       "      <th>Job</th>\n",
       "      <th>Children</th>\n",
       "      <th>...</th>\n",
       "      <th>MonthlyCharge</th>\n",
       "      <th>Bandwidth_GB_Year</th>\n",
       "      <th>Responses</th>\n",
       "      <th>Fixes</th>\n",
       "      <th>Replacements</th>\n",
       "      <th>Reliability</th>\n",
       "      <th>Options</th>\n",
       "      <th>Respectfulness</th>\n",
       "      <th>Courteous</th>\n",
       "      <th>Listening</th>\n",
       "    </tr>\n",
       "  </thead>\n",
       "  <tbody>\n",
       "  </tbody>\n",
       "</table>\n",
       "<p>0 rows × 47 columns</p>\n",
       "</div>"
      ],
      "text/plain": [
       "Empty DataFrame\n",
       "Columns: [Customer_id, Interaction, City, State, County, Population, Area, Timezone, Job, Children, Age, Education, Employment, Income, Marital, Gender, Churn, Outage_sec_perweek, Email, Contacts, Yearly_equip_failure, Techie, Contract, Port_modem, Tablet, InternetService, Phone, Multiple, OnlineSecurity, OnlineBackup, DeviceProtection, TechSupport, StreamingTV, StreamingMovies, PaperlessBilling, PaymentMethod, Tenure, MonthlyCharge, Bandwidth_GB_Year, Responses, Fixes, Replacements, Reliability, Options, Respectfulness, Courteous, Listening]\n",
       "Index: []\n",
       "\n",
       "[0 rows x 47 columns]"
      ]
     },
     "execution_count": 21,
     "metadata": {},
     "output_type": "execute_result"
    }
   ],
   "source": [
    "clean_df2.loc[clean_df2.duplicated()]"
   ]
  },
  {
   "cell_type": "code",
   "execution_count": 22,
   "metadata": {},
   "outputs": [
    {
     "data": {
      "text/plain": [
       "Population              14432.698671\n",
       "Children                    2.154758\n",
       "Age                        20.753928\n",
       "Income                  28358.469482\n",
       "Outage_sec_perweek          7.025921\n",
       "Email                       3.025898\n",
       "Contacts                    0.988466\n",
       "Yearly_equip_failure        0.635953\n",
       "Tenure                     26.438904\n",
       "MonthlyCharge              43.335473\n",
       "Bandwidth_GB_Year        2187.396807\n",
       "Responses                   1.037797\n",
       "Fixes                       1.034641\n",
       "Replacements                1.027977\n",
       "Reliability                 1.025816\n",
       "Options                     1.024819\n",
       "Respectfulness              1.033586\n",
       "Courteous                   1.028502\n",
       "Listening                   1.028633\n",
       "dtype: float64"
      ]
     },
     "execution_count": 22,
     "metadata": {},
     "output_type": "execute_result"
    }
   ],
   "source": [
    "clean_df2.std()\n"
   ]
  },
  {
   "cell_type": "code",
   "execution_count": 23,
   "metadata": {},
   "outputs": [
    {
     "data": {
      "image/png": "[encoded data removed]",
      "text/plain": [
       "<Figure size 1440x1080 with 20 Axes>"
      ]
     },
     "metadata": {
      "needs_background": "light"
     },
     "output_type": "display_data"
    }
   ],
   "source": [
    "clean_df2.hist(figsize=(20, 15))\n",
    "plt.show()"
   ]
  },
  {
   "cell_type": "code",
   "execution_count": 24,
   "metadata": {},
   "outputs": [],
   "source": [
    "clean_df3 = clean_df2.copy()"
   ]
  },
  {
   "cell_type": "code",
   "execution_count": 25,
   "metadata": {},
   "outputs": [],
   "source": [
    "clean_df3['Children'] = clean_df2['Children'].fillna(clean_df2['Children'].median())\n",
    "clean_df3['Age'] = clean_df2['Age'].fillna(clean_df2['Age'].median())\n",
    "clean_df3['Income'] = clean_df2['Income'].fillna(clean_df2['Income'].median())\n",
    "clean_df3['Tenure'] = clean_df2['Tenure'].fillna(clean_df2['Tenure'].median())\n",
    "clean_df3['Bandwidth_GB_Year'] = clean_df2['Bandwidth_GB_Year'].fillna(clean_df2['Bandwidth_GB_Year'].median())"
   ]
  },
  {
   "cell_type": "code",
   "execution_count": 26,
   "metadata": {},
   "outputs": [
    {
     "data": {
      "image/png": "[encoded data removed]",
      "text/plain": [
       "<Figure size 1440x1080 with 20 Axes>"
      ]
     },
     "metadata": {
      "needs_background": "light"
     },
     "output_type": "display_data"
    }
   ],
   "source": [
    "clean_df3.hist(figsize=(20, 15))\n",
    "plt.show()"
   ]
  },
  {
   "cell_type": "code",
   "execution_count": 27,
   "metadata": {},
   "outputs": [
    {
     "data": {
      "text/plain": [
       "<AxesSubplot:>"
      ]
     },
     "execution_count": 27,
     "metadata": {},
     "output_type": "execute_result"
    },
    {
     "data": {
      "image/png": "[encoded data removed]",
      "text/plain": [
       "<Figure size 1800x720 with 2 Axes>"
      ]
     },
     "metadata": {
      "needs_background": "light"
     },
     "output_type": "display_data"
    }
   ],
   "source": [
    "msno.matrix(clean_df3)"
   ]
  },
  {
   "cell_type": "code",
   "execution_count": 28,
   "metadata": {},
   "outputs": [
    {
     "data": {
      "text/plain": [
       "Customer_id                0\n",
       "Interaction                0\n",
       "City                       0\n",
       "State                      0\n",
       "County                     0\n",
       "Population                 0\n",
       "Area                       0\n",
       "Timezone                   0\n",
       "Job                        0\n",
       "Children                   0\n",
       "Age                        0\n",
       "Education                  0\n",
       "Employment                 0\n",
       "Income                     0\n",
       "Marital                    0\n",
       "Gender                     0\n",
       "Churn                      0\n",
       "Outage_sec_perweek         0\n",
       "Email                      0\n",
       "Contacts                   0\n",
       "Yearly_equip_failure       0\n",
       "Techie                  2477\n",
       "Contract                   0\n",
       "Port_modem                 0\n",
       "Tablet                     0\n",
       "InternetService            0\n",
       "Phone                   1026\n",
       "Multiple                   0\n",
       "OnlineSecurity             0\n",
       "OnlineBackup               0\n",
       "DeviceProtection           0\n",
       "TechSupport              991\n",
       "StreamingTV                0\n",
       "StreamingMovies            0\n",
       "PaperlessBilling           0\n",
       "PaymentMethod              0\n",
       "Tenure                     0\n",
       "MonthlyCharge              0\n",
       "Bandwidth_GB_Year          0\n",
       "Responses                  0\n",
       "Fixes                      0\n",
       "Replacements               0\n",
       "Reliability                0\n",
       "Options                    0\n",
       "Respectfulness             0\n",
       "Courteous                  0\n",
       "Listening                  0\n",
       "dtype: int64"
      ]
     },
     "execution_count": 28,
     "metadata": {},
     "output_type": "execute_result"
    }
   ],
   "source": [
    "clean_df3.isnull().sum()"
   ]
  },
  {
   "cell_type": "code",
   "execution_count": 39,
   "metadata": {},
   "outputs": [
    {
     "data": {
      "image/png": "[encoded data removed]",
      "text/plain": [
       "<Figure size 432x288 with 6 Axes>"
      ]
     },
     "metadata": {
      "needs_background": "light"
     },
     "output_type": "display_data"
    }
   ],
   "source": [
    "clean_df3[['Children', 'Age', 'Income', 'Tenure', 'MonthlyCharge', 'Bandwidth_GB_Year']].hist()\n",
    "plt.savefig('churn_plot.jpg')\n",
    "plt.tight_layout()"
   ]
  },
  {
   "cell_type": "code",
   "execution_count": null,
   "metadata": {},
   "outputs": [],
   "source": []
  },
  {
   "cell_type": "code",
   "execution_count": 41,
   "metadata": {},
   "outputs": [
    {
     "data": {
      "text/plain": [
       "<AxesSubplot:>"
      ]
     },
     "execution_count": 41,
     "metadata": {},
     "output_type": "execute_result"
    },
    {
     "data": {
      "image/png": "[encoded data removed]",
      "text/plain": [
       "<Figure size 432x288 with 1 Axes>"
      ]
     },
     "metadata": {
      "needs_background": "light"
     },
     "output_type": "display_data"
    }
   ],
   "source": [
    "clean_df3.boxplot(['Tenure', 'MonthlyCharge', 'Bandwidth_GB_Year', 'Age'])"
   ]
  },
  {
   "cell_type": "code",
   "execution_count": 30,
   "metadata": {},
   "outputs": [
    {
     "data": {
      "text/plain": [
       "<AxesSubplot:>"
      ]
     },
     "execution_count": 30,
     "metadata": {},
     "output_type": "execute_result"
    },
    {
     "data": {
      "image/png": "[encoded data removed]",
      "text/plain": [
       "<Figure size 432x288 with 1 Axes>"
      ]
     },
     "metadata": {
      "needs_background": "light"
     },
     "output_type": "display_data"
    }
   ],
   "source": [
    "clean_df3.boxplot(['MonthlyCharge'])\n"
   ]
  },
  {
   "cell_type": "code",
   "execution_count": 35,
   "metadata": {},
   "outputs": [
    {
     "data": {
      "text/plain": [
       "<AxesSubplot:>"
      ]
     },
     "execution_count": 35,
     "metadata": {},
     "output_type": "execute_result"
    },
    {
     "data": {
      "image/png": "[encoded data removed]",
      "text/plain": [
       "<Figure size 432x288 with 1 Axes>"
      ]
     },
     "metadata": {
      "needs_background": "light"
     },
     "output_type": "display_data"
    }
   ],
   "source": [
    "clean_df3.boxplot(['Tenure'])\n"
   ]
  },
  {
   "cell_type": "code",
   "execution_count": 36,
   "metadata": {},
   "outputs": [
    {
     "data": {
      "text/plain": [
       "<AxesSubplot:>"
      ]
     },
     "execution_count": 36,
     "metadata": {},
     "output_type": "execute_result"
    },
    {
     "data": {
      "image/png": "[encoded data removed]",
      "text/plain": [
       "<Figure size 432x288 with 1 Axes>"
      ]
     },
     "metadata": {
      "needs_background": "light"
     },
     "output_type": "display_data"
    }
   ],
   "source": [
    "clean_df3.boxplot(['MonthlyCharge'])\n"
   ]
  },
  {
   "cell_type": "code",
   "execution_count": 37,
   "metadata": {},
   "outputs": [
    {
     "data": {
      "text/plain": [
       "<AxesSubplot:>"
      ]
     },
     "execution_count": 37,
     "metadata": {},
     "output_type": "execute_result"
    },
    {
     "data": {
      "image/png": "[encoded data removed]",
      "text/plain": [
       "<Figure size 432x288 with 1 Axes>"
      ]
     },
     "metadata": {
      "needs_background": "light"
     },
     "output_type": "display_data"
    }
   ],
   "source": [
    "clean_df3.boxplot(['Bandwidth_GB_Year'])"
   ]
  },
  {
   "cell_type": "code",
   "execution_count": 34,
   "metadata": {},
   "outputs": [
    {
     "ename": "SyntaxError",
     "evalue": "invalid syntax (<ipython-input-34-de1439c9970a>, line 3)",
     "output_type": "error",
     "traceback": [
      "\u001b[1;36m  File \u001b[1;32m\"<ipython-input-34-de1439c9970a>\"\u001b[1;36m, line \u001b[1;32m3\u001b[0m\n\u001b[1;33m    We have to be very careful about outliers. Waterfront houses are very expensive and they are detected as outliers. The real outlier in this data was 33 bedroom house. We have changed it to a 3 bedroom house. The others are real houses but some of them are very expensive because of some properties we don't have information. These expensive houses can have a pool or a special garden.They can be at walking distance to Grade A schools or a walking trail or playground. So we will get rid of %0.1 both from the bottom and from the top.\u001b[0m\n\u001b[1;37m       ^\u001b[0m\n\u001b[1;31mSyntaxError\u001b[0m\u001b[1;31m:\u001b[0m invalid syntax\n"
     ]
    }
   ],
   "source": [
    "# Outliers\n",
    "\n",
    "We have to be very careful about outliers. Waterfront houses are very expensive and they are detected as outliers. The real outlier in this data was 33 bedroom house. We have changed it to a 3 bedroom house. The others are real houses but some of them are very expensive because of some properties we don't have information. These expensive houses can have a pool or a special garden.They can be at walking distance to Grade A schools or a walking trail or playground. So we will get rid of %0.1 both from the bottom and from the top."
   ]
  },
  {
   "cell_type": "code",
   "execution_count": null,
   "metadata": {},
   "outputs": [],
   "source": [
    "Q1 = df.quantile(0.001)\n",
    "Q3 = df.quantile(0.999)\n",
    "IQR = Q3 - Q1\n",
    "\n",
    "df = df[~((df < (Q1 - 1.5 * IQR)) | (df > (Q3 + 1.5 * IQR))).any(axis=1)]"
   ]
  },
  {
   "cell_type": "markdown",
   "metadata": {},
   "source": [
    "## Export To CSV"
   ]
  },
  {
   "cell_type": "code",
   "execution_count": null,
   "metadata": {},
   "outputs": [],
   "source": [
    "clean_df3.to_csv('churn_clean.csv')"
   ]
  },
  {
   "cell_type": "code",
   "execution_count": null,
   "metadata": {},
   "outputs": [],
   "source": [
    "churn_user = pd.read_csv('churn_clean.csv')"
   ]
  },
  {
   "cell_type": "code",
   "execution_count": null,
   "metadata": {},
   "outputs": [],
   "source": [
    "churn_user.columns"
   ]
  },
  {
   "cell_type": "code",
   "execution_count": null,
   "metadata": {},
   "outputs": [],
   "source": [
    "data = churn_user.drop(columns=['Unnamed: 0', 'Customer_id', 'Interaction', 'City', 'State', 'County',\n",
    "       'Population', 'Area', 'Timezone', 'Job', 'Education',\n",
    "       'Employment','Marital', 'Gender', 'Churn',\n",
    "       'Outage_sec_perweek', 'Email', 'Contacts', 'Yearly_equip_failure',\n",
    "       'Techie', 'Contract', 'Port_modem', 'Tablet', 'InternetService',\n",
    "       'Phone', 'Multiple', 'OnlineSecurity', 'OnlineBackup',\n",
    "       'DeviceProtection', 'TechSupport', 'StreamingTV', 'StreamingMovies',\n",
    "       'PaperlessBilling', 'PaymentMethod', 'Tenure'])\n",
    "data.head()"
   ]
  },
  {
   "cell_type": "markdown",
   "metadata": {},
   "source": [
    "## Principal Component Analysis"
   ]
  },
  {
   "cell_type": "code",
   "execution_count": null,
   "metadata": {},
   "outputs": [],
   "source": [
    "data.info()"
   ]
  },
  {
   "cell_type": "code",
   "execution_count": null,
   "metadata": {},
   "outputs": [],
   "source": [
    "data.columns"
   ]
  },
  {
   "cell_type": "code",
   "execution_count": null,
   "metadata": {},
   "outputs": [],
   "source": [
    "# Import Scikit Learn PCA application\n",
    "from sklearn.decomposition import PCA"
   ]
  },
  {
   "cell_type": "code",
   "execution_count": null,
   "metadata": {},
   "outputs": [],
   "source": [
    "# Normalize the data\n",
    "churn_normalized = (data - data.mean()) / data.std()"
   ]
  },
  {
   "cell_type": "code",
   "execution_count": null,
   "metadata": {},
   "outputs": [],
   "source": [
    "pca = PCA(n_components = data.shape[1])"
   ]
  },
  {
   "cell_type": "code",
   "execution_count": null,
   "metadata": {},
   "outputs": [],
   "source": [
    "churn_numeric = data[['Children', 'Age', 'Income', 'MonthlyCharge', 'Bandwidth_GB_Year',\n",
    "       'Responses', 'Fixes', 'Replacements', 'Reliability', 'Options',\n",
    "       'Respectfulness', 'Courteous', 'Listening']]\n",
    "pcs_names = []\n",
    "for i, col in enumerate(churn_numeric.columns):\n",
    "    pcs_names.append('PC' + str(i + 1))\n",
    "print(pcs_names)"
   ]
  },
  {
   "cell_type": "code",
   "execution_count": null,
   "metadata": {},
   "outputs": [],
   "source": [
    "pca.fit(churn_normalized)\n",
    "churn_pca = pd.DataFrame(pca.transform(churn_normalized),\n",
    "                        columns = pcs_names)"
   ]
  },
  {
   "cell_type": "code",
   "execution_count": null,
   "metadata": {},
   "outputs": [],
   "source": [
    "rotation = pd.DataFrame(pca.components_.T, columns = pcs_names, index = churn_numeric.columns)"
   ]
  },
  {
   "cell_type": "code",
   "execution_count": null,
   "metadata": {},
   "outputs": [],
   "source": [
    "churn_pca"
   ]
  },
  {
   "cell_type": "code",
   "execution_count": null,
   "metadata": {},
   "outputs": [],
   "source": [
    "import matplotlib.pyplot as plt\n",
    "import seaborn as sns"
   ]
  },
  {
   "cell_type": "code",
   "execution_count": null,
   "metadata": {},
   "outputs": [],
   "source": [
    "\n",
    "\n",
    "# Run the scree plot\n",
    "plt.plot(pca.explained_variance_ratio_, 'ro-', linewidth=2)\n",
    "plt.xlabel('Number of Components')\n",
    "plt.ylabel('Explained Variance')\n",
    "plt.show();\n",
    "\n"
   ]
  },
  {
   "cell_type": "code",
   "execution_count": null,
   "metadata": {},
   "outputs": [],
   "source": [
    "for pc, var in zip(pcs_names, np.cumsum(pca.explained_variance_ratio_)):\n",
    "    print(pc, var)"
   ]
  },
  {
   "cell_type": "code",
   "execution_count": null,
   "metadata": {},
   "outputs": [],
   "source": [
    "\n",
    "\n",
    "# Above, we see that 86% of variance is explained by 9 components\n",
    "# Rotate and reshape the data set. \n",
    "rotation = pd.DataFrame(pca.components_.T, columns = pcs_names, index = churn_numeric.columns)\n",
    "print(rotation)\n",
    "\n"
   ]
  },
  {
   "cell_type": "code",
   "execution_count": null,
   "metadata": {},
   "outputs": [],
   "source": [
    "# Output loadings for components\n",
    "loadings = pd.DataFrame(pca.components_.T,\n",
    "                       columns = pcs_names,\n",
    "                       index = data.columns)\n",
    "loadings"
   ]
  },
  {
   "cell_type": "code",
   "execution_count": null,
   "metadata": {},
   "outputs": [],
   "source": [
    "# Finally, extract reduced dataset & print 3 components\n",
    "churn_reduced = churn_pca.iloc[ : , 0:3]\n",
    "print(churn_reduced)"
   ]
  },
  {
   "cell_type": "markdown",
   "metadata": {},
   "source": [
    "# Part III: Data Cleaning"
   ]
  },
  {
   "cell_type": "markdown",
   "metadata": {},
   "source": [
    "## Data Cleaning Summary"
   ]
  },
  {
   "cell_type": "markdown",
   "metadata": {},
   "source": [
    "### D1: Findings from Data Cleaning"
   ]
  },
  {
   "cell_type": "markdown",
   "metadata": {},
   "source": [
    "There was many missing data with meaningful variable fields including Children, Age, Income, Tenure and Bandwidth_GB_Year. Given mean and variance of these variables, it seemed reasonable to impute missing values with median values. Many categorical (such as whether or not the customer was \"Techie\") & non-numeric (columns for customer ID numbers & related customer transaction IDs) data were not included in analysis given they seemed less meaningful to interpretation and decision-making. The anomalies discovered were not significant & were mitigated as follows."
   ]
  },
  {
   "cell_type": "markdown",
   "metadata": {},
   "source": [
    "### D2: Justification of Mitigation Methods: "
   ]
  },
  {
   "cell_type": "markdown",
   "metadata": {},
   "source": [
    "Mitigated missing values with imputation using median values. Median was used instead of mean to mitigate the effect of outliers on mean calculation,. Monthly Charge variable shows outliers so left alone. This does not seem significant to this analysis."
   ]
  },
  {
   "cell_type": "markdown",
   "metadata": {},
   "source": [
    "### D3: Summary of Outcomes"
   ]
  },
  {
   "cell_type": "markdown",
   "metadata": {},
   "source": [
    "Cleaned dataset to leave remaining variables describing customer tenure, monthly service charge, yearly bandwidth usage & responses to survey."
   ]
  },
  {
   "cell_type": "markdown",
   "metadata": {},
   "source": [
    "### D4 Mitigation Code"
   ]
  },
  {
   "cell_type": "markdown",
   "metadata": {},
   "source": [
    "See above code, and Panapto Recording. "
   ]
  },
  {
   "cell_type": "markdown",
   "metadata": {},
   "source": [
    "### D5 Clean Data"
   ]
  },
  {
   "cell_type": "markdown",
   "metadata": {},
   "source": [
    "See attached file 'churn_clean.csv'"
   ]
  },
  {
   "cell_type": "markdown",
   "metadata": {},
   "source": [
    "### D6 Limitations"
   ]
  },
  {
   "cell_type": "markdown",
   "metadata": {},
   "source": [
    "There are two limitations of the this data.\n",
    "\n",
    "First, we dont know the logic of how the data was ingested. We do not know the logic of the code that was used to determine categories for each category of the churn feature/column.\n",
    "\n",
    "Second, we don't have business context about the data within the CSV. We don't know the context of the full table, within the database/datawarehouse. There maybe other columns within the data set that were excluded, which may help with churn prediction. In addition, I am unable to ask business steakholders about the data. Important columns such as age, children, and income have a large number null values, which could be important features in predicting churn or answering business questions. We are unable to ask whether these columns contain null values as result of specific rules or if someone forgot to add the data. In a real world project, you would be able to ask individuals the reasons for this missing data. \n"
   ]
  },
  {
   "cell_type": "markdown",
   "metadata": {},
   "source": [
    "### D7: Affects on Limitations on Business Question/Hypothesis"
   ]
  },
  {
   "cell_type": "markdown",
   "metadata": {},
   "source": [
    "There are three major effects: \n",
    "\n",
    "First, filling the null data points with the median amounts for each column changes predictive and/or prescriptive analysis. \n",
    "The sample is skewed, resulting in a possiblily higher chance of overfitting or underfitting on either a linear regression or logistic regression model. This would depend highly on the difference between the mean and the median value. The bias and error for points that were filled by a median value will change drastically, assuming we could consult later with the business. Null values would simply be excluded from a regression model, as they contain no value.\n",
    "\n",
    "Second, the proportion of nulls. Roughly 25% of the entries for the children, income, and age columns were null. For the Bandwidth_GB_Year or phone numbers, this was about 10%. For any churn analysis related to children, income, and age, wether it is descriptive, diagnostic, prescritive, or predictive, would be highly skewed, since a quarter of the data is missing. It would be very difficult to draw accurate conclusions or built a model where 25% of the data is missing. From a business perspective, it raises the question of how the data is being ingested and the reason for a high number of errors, wether they are human or technology related. A good solution is greater data governance oversight, as well as documentation of use cases to determine when or even if a column should be null.\n",
    "\n",
    "\n",
    "Third, relates to the mathematical aspect of median. Median is not good for planning. A median cannot tell you about the max, the min, or the total value. However, without business feedback on outliers that we need to remove, we must use median as to fill in the data. Unlike mean, median is not amenable to further mathematical calculation, and therefore, is not used in many statistical tests.This may heavily skew data for statistical tests used by the business to determine trends, predictions, or characteristics of customers. \n"
   ]
  },
  {
   "cell_type": "markdown",
   "metadata": {},
   "source": [
    "<b>Principal Component Analysis</b>\n",
    "\n",
    "E1. Principal Components: The principal components, and what I determined to be \"most important\", in this dataset include survey responses to:\n",
    "\n",
    "    Timely Responses\n",
    "    Timely Fixes\n",
    "    Timely Replacements\n",
    "    Respectful Response\n",
    "\n",
    "E2. Criteria Used: Intuition about customer service suggests that feedback from user survey might offer the most important components when analyzing churn rate. Also, since survey results were the easiest to select as numeric predictors of whether or not a user would leave the company I included the 8 responses as variables for the PCA. And, of course, users' tenure with the company as well as monthly charge & yearly GB use are seem like significant numeric data points for analysis. I used a scree plot & extracted the eigenvalues for visualization of where the \"elbow was bending\". The elbow bent at about 3 but kept an eigenvalue above 1 until the tenth component. Then, the fewest number of components were selected based on the 86% explanation at 7 components using the Numpy cumsum method. A rotation & loadings were created which suggested the \"most important\" features of the dataset.</b>\n",
    "\n",
    "E3. Benefits: The loadings suggest the variables involved in timely action with regard to customer satisfaction (Responses, Fixes, Replacements & Respectfulness) should be given greater emphasis and hopefully help reduce the churn rate from the large number of 27% & \"increase the retention period of customers\" by targeting more resources in the direction prompt customer service (Ahmad, 2019, p. 1). Again, this seems an intuitive result but now decision-makers in the company of reasonable verification of what might have been a \"hunch\"."
   ]
  },
  {
   "cell_type": "markdown",
   "metadata": {},
   "source": [
    "# Part IV: Supporting Documents"
   ]
  },
  {
   "cell_type": "markdown",
   "metadata": {},
   "source": [
    "## Part G: Web Sources"
   ]
  },
  {
   "cell_type": "markdown",
   "metadata": {},
   "source": [
    "“Counting Null as Percentage.” Stack Overflow, stackoverflow.com/questions/41826019/counting-null-as-percentage. Accessed 6 June 2021."
   ]
  },
  {
   "cell_type": "markdown",
   "metadata": {},
   "source": [
    "Larose, C. D. & Larose, D. T.   (2019).   Data Science: Using Python and R.   John Wiley & Sons, Inc."
   ]
  },
  {
   "cell_type": "markdown",
   "metadata": {},
   "source": [
    "Sharma, Aditya. “Principal Component Analysis (PCA) in Python.” Datacamp, 16 Jan. 2020, www.datacamp.com/community/tutorials/principal-component-analysis-in-python."
   ]
  },
  {
   "cell_type": "markdown",
   "metadata": {},
   "source": [
    "## Part H: Text Sources"
   ]
  },
  {
   "cell_type": "markdown",
   "metadata": {},
   "source": [
    "Walker, Michael. <i>Python Data Cleaning Cookbook: Modern Techniques and Python Tools to Detect and Remove Dirty Data and Extract Key Insights.</i> Packt Publishing, 2020."
   ]
  },
  {
   "cell_type": "code",
   "execution_count": null,
   "metadata": {},
   "outputs": [],
   "source": []
  }
 ],
 "metadata": {
  "kernelspec": {
   "display_name": "Python 3",
   "language": "python",
   "name": "python3"
  },
  "language_info": {
   "codemirror_mode": {
    "name": "ipython",
    "version": 3
   },
   "file_extension": ".py",
   "mimetype": "text/x-python",
   "name": "python",
   "nbconvert_exporter": "python",
   "pygments_lexer": "ipython3",
   "version": "3.8.5"
  }
 },
 "nbformat": 4,
 "nbformat_minor": 4
}
